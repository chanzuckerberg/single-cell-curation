{
 "cells": [
  {
   "cell_type": "code",
   "execution_count": 1,
   "id": "3fa875bb-b689-411a-9fe3-9d36c4abdd19",
   "metadata": {
    "pycharm": {
     "is_executing": true,
     "name": "#%%\n"
    }
   },
   "outputs": [],
   "source": [
    "import anndata as ad\n",
    "import pandas as pd"
   ]
  },
  {
   "cell_type": "code",
   "execution_count": 2,
   "id": "4c2fd1ca-5d6d-41f6-b118-ea78b2789d87",
   "metadata": {
    "pycharm": {
     "name": "#%%\n"
    }
   },
   "outputs": [],
   "source": [
    "dataset = ad.read_h5ad(\"./cellxgene_schema_cli/tests/fixtures/h5ads/example_valid.h5ad\")"
   ]
  },
  {
   "cell_type": "code",
   "execution_count": 3,
   "id": "86b60431-cedd-4355-a084-6dd6c4534c8a",
   "metadata": {
    "pycharm": {
     "name": "#%%\n"
    }
   },
   "outputs": [],
   "source": [
    "# Add donor_id (not required by 2to3)\n",
    "import random\n",
    "random.seed(10)\n",
    "randomized_list = random.choices([\"donor_1\", \"donor_2\"], k=dataset.obs.shape[0])\n",
    "donor_id = pd.Series(randomized_list, dtype=\"category\")\n",
    "donor_id.index = dataset.obs.index\n",
    "dataset.obs[\"donor_id\"] = donor_id"
   ]
  },
  {
   "cell_type": "code",
   "execution_count": 4,
   "id": "a765a875-d320-4089-9451-d58872463714",
   "metadata": {
    "pycharm": {
     "name": "#%%\n"
    }
   },
   "outputs": [],
   "source": [
    "del dataset.uns['X_normalization']"
   ]
  },
  {
   "cell_type": "code",
   "execution_count": null,
   "id": "8b277258",
   "metadata": {
    "pycharm": {
     "name": "#%%\n",
     "is_executing": true
    }
   },
   "outputs": [],
   "source": [
    "# update obs entries to remove clarifying text from assay_ontology_term_id\n",
    "dataset.obs.loc[dataset.obs[\"assay_ontology_term_id\"] == 'EFO:0009922 (sci-plex)', 'assay_ontology_term_id'] = 'EFO:0009922'\n",
    "dataset.obs[\"assay_ontology_term_id\"].cat.remove_unused_categories(inplace=True)"
   ]
  },
  {
   "cell_type": "code",
   "execution_count": 7,
   "id": "22744f8e",
   "metadata": {
    "pycharm": {
     "name": "#%%\n"
    }
   },
   "outputs": [],
   "source": [
    "# Set schema version to 3.0.0\n",
    "dataset.uns[\"schema_version\"] = \"3.0.0\""
   ]
  },
  {
   "cell_type": "code",
   "execution_count": 8,
   "id": "e6578bac",
   "metadata": {
    "pycharm": {
     "name": "#%%\n"
    }
   },
   "outputs": [],
   "source": [
    "# Write the h5ad back\n",
    "dataset.write(\"./cellxgene_schema_cli/tests/fixtures/h5ads/example_valid.h5ad\")"
   ]
  }
 ],
 "metadata": {
  "kernelspec": {
   "display_name": "Python 3 (ipykernel)",
   "language": "python",
   "name": "python3"
  },
  "language_info": {
   "codemirror_mode": {
    "name": "ipython",
    "version": 3
   },
   "file_extension": ".py",
   "mimetype": "text/x-python",
   "name": "python",
   "nbconvert_exporter": "python",
   "pygments_lexer": "ipython3",
   "version": "3.10.5"
  }
 },
 "nbformat": 4,
 "nbformat_minor": 5
}