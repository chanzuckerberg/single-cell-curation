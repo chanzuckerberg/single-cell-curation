{
 "cells": [
  {
   "cell_type": "code",
   "execution_count": 111,
   "id": "3fa875bb-b689-411a-9fe3-9d36c4abdd19",
   "metadata": {
    "pycharm": {
     "name": "#%%\n"
    }
   },
   "outputs": [],
   "source": [
    "import anndata as ad\n",
    "import pandas as pd"
   ]
  },
  {
   "cell_type": "code",
   "execution_count": 112,
   "id": "4c2fd1ca-5d6d-41f6-b118-ea78b2789d87",
   "metadata": {
    "pycharm": {
     "name": "#%%\n"
    }
   },
   "outputs": [],
   "source": [
    "dataset = ad.read_h5ad(\"./cellxgene_schema_cli/tests/fixtures/h5ads/example_valid.h5ad\")"
   ]
  },
  {
   "cell_type": "code",
   "execution_count": 121,
   "id": "35f04d52-560a-4362-97dd-8ea6ba1263d9",
   "metadata": {},
   "outputs": [
    {
     "data": {
      "text/plain": [
       "['_is_view',\n",
       " '_adata_ref',\n",
       " '_oidx',\n",
       " '_vidx',\n",
       " 'file',\n",
       " '_X',\n",
       " '_n_obs',\n",
       " '_n_vars',\n",
       " '_obs',\n",
       " '_var',\n",
       " '_uns',\n",
       " '_obsm',\n",
       " '_varm',\n",
       " '_obsp',\n",
       " '_varp',\n",
       " '_raw',\n",
       " '_layers',\n",
       " '__module__',\n",
       " '__doc__',\n",
       " '_BACKED_ATTRS',\n",
       " '_H5_ALIASES',\n",
       " '_H5_ALIASES_NAMES',\n",
       " '__init__',\n",
       " '_init_as_view',\n",
       " '_init_as_actual',\n",
       " '__sizeof__',\n",
       " '_gen_repr',\n",
       " '__repr__',\n",
       " '__eq__',\n",
       " 'shape',\n",
       " 'X',\n",
       " 'layers',\n",
       " 'raw',\n",
       " 'n_obs',\n",
       " 'n_vars',\n",
       " '_set_dim_df',\n",
       " '_prep_dim_index',\n",
       " '_set_dim_index',\n",
       " 'obs',\n",
       " 'obs_names',\n",
       " 'var',\n",
       " 'var_names',\n",
       " 'uns',\n",
       " 'obsm',\n",
       " 'varm',\n",
       " 'obsp',\n",
       " 'varp',\n",
       " 'obs_keys',\n",
       " 'var_keys',\n",
       " 'obsm_keys',\n",
       " 'varm_keys',\n",
       " 'uns_keys',\n",
       " 'isbacked',\n",
       " 'is_view',\n",
       " 'filename',\n",
       " '_set_backed',\n",
       " '_normalize_indices',\n",
       " '__delitem__',\n",
       " '__getitem__',\n",
       " '_remove_unused_categories',\n",
       " 'rename_categories',\n",
       " 'strings_to_categoricals',\n",
       " '_sanitize',\n",
       " '_inplace_subset_var',\n",
       " '_inplace_subset_obs',\n",
       " '__setitem__',\n",
       " '__len__',\n",
       " 'transpose',\n",
       " 'T',\n",
       " 'to_df',\n",
       " '_get_X',\n",
       " 'obs_vector',\n",
       " 'var_vector',\n",
       " '_get_obs_array',\n",
       " '_get_var_array',\n",
       " '_mutated_copy',\n",
       " 'to_memory',\n",
       " 'copy',\n",
       " 'concatenate',\n",
       " 'var_names_make_unique',\n",
       " 'obs_names_make_unique',\n",
       " '_check_uniqueness',\n",
       " '__contains__',\n",
       " '_check_dimensions',\n",
       " 'write_h5ad',\n",
       " 'write',\n",
       " 'write_csvs',\n",
       " 'write_loom',\n",
       " 'write_zarr',\n",
       " 'chunked_X',\n",
       " 'chunk_X',\n",
       " 'isview',\n",
       " '_clean_up_old_format',\n",
       " '_get_and_delete_multicol_field',\n",
       " '__dict__',\n",
       " '__weakref__',\n",
       " '__hash__',\n",
       " '__str__',\n",
       " '__getattribute__',\n",
       " '__setattr__',\n",
       " '__delattr__',\n",
       " '__lt__',\n",
       " '__le__',\n",
       " '__ne__',\n",
       " '__gt__',\n",
       " '__ge__',\n",
       " '__new__',\n",
       " '__reduce_ex__',\n",
       " '__reduce__',\n",
       " '__subclasshook__',\n",
       " '__init_subclass__',\n",
       " '__format__',\n",
       " '__dir__',\n",
       " '__class__']"
      ]
     },
     "execution_count": 121,
     "metadata": {},
     "output_type": "execute_result"
    }
   ],
   "source": [
    "dataset.__dir__()"
   ]
  },
  {
   "cell_type": "code",
   "execution_count": 129,
   "id": "cdbb3e8a-61c9-49e6-b1a6-d051a515297b",
   "metadata": {},
   "outputs": [],
   "source": [
    "dataset.filename"
   ]
  },
  {
   "cell_type": "code",
   "execution_count": null,
   "id": "5a856487",
   "metadata": {
    "pycharm": {
     "name": "#%%\n"
    }
   },
   "outputs": [],
   "source": [
    "# Add donor_id (not required by 2to3)\n",
    "import random\n",
    "random.seed(10)\n",
    "randomized_list = random.choices([\"donor_1\", \"donor_2\"], k=dataset.obs.shape[0])\n",
    "donor_id = pd.Series(randomized_list, dtype=\"category\")\n",
    "donor_id.index = dataset.obs.index\n",
    "dataset.obs[\"donor_id\"] = donor_id"
   ]
  },
  {
   "cell_type": "code",
   "execution_count": null,
   "id": "e51b70ad",
   "metadata": {
    "pycharm": {
     "name": "#%%\n"
    }
   },
   "outputs": [],
   "source": [
    "# update obs entries to remove clarifying text from assay_ontology_term_id (for testing fixture, not required by 2to3)\n",
    "dataset.obs.loc[dataset.obs[\"assay_ontology_term_id\"] == 'EFO:0009922 (sci-plex)', 'assay_ontology_term_id'] = 'EFO:0009922'\n",
    "dataset.obs[\"assay_ontology_term_id\"].cat.remove_unused_categories(inplace=True)"
   ]
  },
  {
   "cell_type": "code",
   "execution_count": null,
   "id": "6984b469",
   "metadata": {},
   "outputs": [],
   "source": [
    "# Rename ethnicity_ontology_term_id field\n",
    "dataset.obs.rename(columns={\"ethnicity_ontology_term_id\":\"self_reported_ethnicity_ontology_term_id\"}, inplace=True)\n",
    "# add 'multiethnic' as a self_reported_ethnicity_ontology_term_id category (for testing fixture, not required by 2to3)\n",
    "dataset.obs[\"self_reported_ethnicity_ontology_term_id\"].cat.add_categories(\"multiethnic\", inplace=True)\n",
    "dataset.obs[\"self_reported_ethnicity_ontology_term_id\"][3] = \"multiethnic\""
   ]
  },
  {
   "cell_type": "code",
   "execution_count": null,
   "id": "496a0dd5",
   "metadata": {
    "pycharm": {
     "name": "#%%\n"
    }
   },
   "outputs": [],
   "source": [
    "# Set schema version to 3.0.0\n",
    "dataset.uns[\"schema_version\"] = \"3.0.0\""
   ]
  },
  {
   "cell_type": "code",
   "execution_count": 8,
   "id": "e6578bac",
   "metadata": {
    "pycharm": {
     "name": "#%%\n"
    }
   },
   "outputs": [],
   "source": [
    "# Write the h5ad back\n",
    "dataset.write(\"./cellxgene_schema_cli/tests/fixtures/h5ads/example_valid.h5ad\")"
   ]
  }
 ],
 "metadata": {
  "kernelspec": {
   "display_name": "Python 3 (ipykernel)",
   "language": "python",
   "name": "python3"
  },
  "language_info": {
   "codemirror_mode": {
    "name": "ipython",
    "version": 3
   },
   "file_extension": ".py",
   "mimetype": "text/x-python",
   "name": "python",
   "nbconvert_exporter": "python",
   "pygments_lexer": "ipython3",
   "version": "3.7.11"
  }
 },
 "nbformat": 4,
 "nbformat_minor": 5
}
