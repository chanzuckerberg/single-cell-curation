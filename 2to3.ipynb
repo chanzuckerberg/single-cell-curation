{
 "cells": [
  {
   "cell_type": "code",
   "execution_count": 1,
   "id": "3fa875bb-b689-411a-9fe3-9d36c4abdd19",
   "metadata": {
    "pycharm": {
     "name": "#%%\n"
    }
   },
   "outputs": [],
   "source": [
    "import anndata as ad\n",
    "import pandas as pd"
   ]
  },
  {
   "cell_type": "code",
   "execution_count": 2,
   "id": "4c2fd1ca-5d6d-41f6-b118-ea78b2789d87",
   "metadata": {
    "pycharm": {
     "name": "#%%\n"
    }
   },
   "outputs": [],
   "source": [
    "dataset = ad.read_h5ad(\"./cellxgene_schema_cli/tests/fixtures/h5ads/example_valid.h5ad\")"
   ]
  },
  {
   "cell_type": "code",
   "execution_count": null,
   "outputs": [],
   "source": [
    "# Add donor_id (not required by 2to3)\n",
    "import random\n",
    "random.seed(10)\n",
    "randomized_list = random.choices([\"donor_1\", \"donor_2\"], k=dataset.obs.shape[0])\n",
    "donor_id = pd.Series(randomized_list, dtype=\"category\")\n",
    "donor_id.index = dataset.obs.index\n",
    "dataset.obs[\"donor_id\"] = donor_id"
   ],
   "metadata": {
    "collapsed": false,
    "pycharm": {
     "name": "#%%\n"
    }
   }
  },
  {
   "cell_type": "code",
   "execution_count": null,
   "outputs": [],
   "source": [
    "# update obs entries to remove clarifying text from assay_ontology_term_id (for testing fixture, not required by 2to3)\n",
    "dataset.obs.loc[dataset.obs[\"assay_ontology_term_id\"] == 'EFO:0009922 (sci-plex)', 'assay_ontology_term_id'] = 'EFO:0009922'\n",
    "dataset.obs[\"assay_ontology_term_id\"].cat.remove_unused_categories(inplace=True)"
   ]
  },
  {
   "cell_type": "code",
   "execution_count": null,
   "id": "deac4116",
   "metadata": {
    "pycharm": {
     "name": "#%%\n",
     "is_executing": true
    }
   },
   "outputs": [],
   "source": [
    "# Assign suspension type based on assay_ontology_term_id (not required by 2to3)\n",
    "dataset.obs = dataset.obs.assign(suspension_type=\"cell\")\n",
    "dataset.obs.loc[:, [\"suspension_type\"]] = dataset.obs.astype(\"category\")"
   ]
  },
  {
   "cell_type": "code",
   "execution_count": 7,
   "id": "22744f8e",
   ],
   "metadata": {
    "collapsed": false,
    "pycharm": {
     "name": "#%%\n"
    }
   }
  },
  {
   "cell_type": "code",
   "execution_count": null,
   "outputs": [],
   "source": [
    "# Rename ethnicity_ontology_term_id field\n",
    "dataset.obs.rename(columns={\"ethnicity_ontology_term_id\":\"self_reported_ethnicity_ontology_term_id\"}, inplace=True)\n",
    "# add 'multiethnic' as a self_reported_ethnicity_ontology_term_id category (for testing fixture, not required by 2to3)\n",
    "dataset.obs[\"self_reported_ethnicity_ontology_term_id\"].cat.add_categories(\"multiethnic\", inplace=True)\n",
    "dataset.obs[\"self_reported_ethnicity_ontology_term_id\"][3] = \"multiethnic\""
   ],
   "metadata": {
    "collapsed": false,
    "pycharm": {
     "name": "#%%\n"
    }
   }
  }
 ],
 "metadata": {
  "kernelspec": {
   "display_name": "Python 3 (ipykernel)",
   "language": "python",
   "name": "python3"
  },
  "language_info": {
   "codemirror_mode": {
    "name": "ipython",
    "version": 3
   },
   "file_extension": ".py",
   "mimetype": "text/x-python",
   "name": "python",
   "nbconvert_exporter": "python",
   "pygments_lexer": "ipython3",
   "version": "3.10.5"
  }
 },
 "nbformat": 4,
 "nbformat_minor": 5
}