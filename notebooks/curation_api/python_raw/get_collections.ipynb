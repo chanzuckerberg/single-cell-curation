{
 "cells": [
  {
   "cell_type": "markdown",
   "id": "c5490d93",
   "metadata": {},
   "source": [
    "# Fetch Collections index with Dataset previews"
   ]
  },
  {
   "cell_type": "markdown",
   "id": "74560383",
   "metadata": {},
   "source": [
    "The script in this notebook fetches... \n",
    "- all public Collections (with query param `visibility=PUBLIC` or not set).\n",
    "\n",
    "or\n",
    "- all accessible private Collections (with query param `visibility=PRIVATE`; access token required).\n",
    "\n",
    "In order to fetch private Collections with this script, you must have a Curation API key (obtained from upper-righthand dropdown in the CZ CELLxGENE Discover data portal after logging in). You may fetch public Collections without an API key / access token."
   ]
  },
  {
   "cell_type": "markdown",
   "id": "edfb1272",
   "metadata": {},
   "source": [
    "### Import dependencies"
   ]
  },
  {
   "cell_type": "code",
   "execution_count": null,
   "id": "1cff472c",
   "metadata": {},
   "outputs": [],
   "source": [
    "import requests"
   ]
  },
  {
   "cell_type": "markdown",
   "id": "97459362",
   "metadata": {},
   "source": [
    "#### <font color='#bc00b0'>Please fill in the required values:</font>"
   ]
  },
  {
   "cell_type": "markdown",
   "id": "cb7eb2ae",
   "metadata": {},
   "source": [
    "<font color='#bc00b0'>(Required for fetching private Collections) Provide the path to your api key file</font>"
   ]
  },
  {
   "cell_type": "code",
   "execution_count": null,
   "id": "028f2db9",
   "metadata": {},
   "outputs": [],
   "source": [
    "api_key_file_path = \"path/to/api-key-file\""
   ]
  },
  {
   "cell_type": "markdown",
   "id": "d71a3073",
   "metadata": {},
   "source": [
    "<font color='#bc00b0'>(Optional) Specify visibility and/or curator name</font>"
   ]
  },
  {
   "cell_type": "code",
   "execution_count": null,
   "id": "c9de682f",
   "metadata": {},
   "outputs": [],
   "source": [
    "query_params = {}\n",
    "# query_params[\"visibility\"] = \"PRIVATE\"  # default is PUBLIC\n",
    "# query_params[\"curator\"] = \"Curator Name\""
   ]
  },
  {
   "cell_type": "markdown",
   "id": "285a1ca4",
   "metadata": {},
   "source": [
    "### Specify domain (and API url)"
   ]
  },
  {
   "cell_type": "code",
   "execution_count": null,
   "id": "bea213f4",
   "metadata": {},
   "outputs": [],
   "source": [
    "domain_name = \"cellxgene.cziscience.com\"\n",
    "site_url = f\"https://{domain_name}\"\n",
    "api_url_base = f\"https://api.{domain_name}\""
   ]
  },
  {
   "cell_type": "markdown",
   "id": "1f03503e",
   "metadata": {},
   "source": [
    "### Use API key to obtain a temporary access token"
   ]
  },
  {
   "cell_type": "code",
   "execution_count": null,
   "id": "d19ca5ee",
   "metadata": {},
   "outputs": [],
   "source": [
    "with open(api_key_file_path) as f:\n",
    "    api_key = f.read()\n",
    "access_token_path = \"/curation/v1/auth/token\"\n",
    "access_token_url = f\"{api_url_base}{access_token_path}\"\n",
    "res = requests.post(access_token_url, headers={\"x-api-key\": api_key})\n",
    "res.raise_for_status()\n",
    "access_token = res.json().get(\"access_token\")"
   ]
  },
  {
   "cell_type": "markdown",
   "id": "6085d322",
   "metadata": {},
   "source": [
    "### Formulate request and fetch Collections"
   ]
  },
  {
   "cell_type": "code",
   "execution_count": null,
   "id": "cb3dd36b",
   "metadata": {
    "pycharm": {
     "name": "#%%\n"
    }
   },
   "outputs": [],
   "source": [
    "collections_path = \"/curation/v1/collections\"\n",
    "url = f\"{api_url_base}{collections_path}\"\n",
    "bearer_token = f\"Bearer {access_token}\"\n",
    "res = requests.get(url=url, params=query_params, headers={\"Authorization\": bearer_token})\n",
    "res.raise_for_status()\n",
    "res_content = res.json()\n",
    "print(res_content)"
   ]
  }
 ],
 "metadata": {
  "kernelspec": {
   "display_name": "Python 3 (ipykernel)",
   "language": "python",
   "name": "python3"
  },
  "language_info": {
   "codemirror_mode": {
    "name": "ipython",
    "version": 3
   },
   "file_extension": ".py",
   "mimetype": "text/x-python",
   "name": "python",
   "nbconvert_exporter": "python",
   "pygments_lexer": "ipython3",
   "version": "3.8.6"
  }
 },
 "nbformat": 4,
 "nbformat_minor": 5
}