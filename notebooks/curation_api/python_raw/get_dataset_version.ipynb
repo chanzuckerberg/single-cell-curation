{
 "cells": [
  {
   "cell_type": "markdown",
   "id": "c5490d93",
   "metadata": {
    "pycharm": {
     "name": "#%% md\n"
    }
   },
   "source": [
    "# Fetch full metadata for a Dataset Version"
   ]
  },
  {
   "cell_type": "markdown",
   "id": "74560383",
   "metadata": {
    "pycharm": {
     "name": "#%% md\n"
    }
   },
   "source": [
    "The script in this notebook retrieves full metadata for a given Dataset Version.\n",
    "\n",
    "Fetching a Dataset Version requires only the Dataset id; it does not require an API key/access token."
   ]
  },
  {
   "cell_type": "markdown",
   "id": "edfb1272",
   "metadata": {
    "pycharm": {
     "name": "#%% md\n"
    }
   },
   "source": [
    "### Import dependencies"
   ]
  },
  {
   "cell_type": "code",
   "execution_count": null,
   "id": "1cff472c",
   "metadata": {
    "pycharm": {
     "name": "#%%\n"
    }
   },
   "outputs": [],
   "source": [
    "import requests"
   ]
  },
  {
   "cell_type": "markdown",
   "id": "968f003d",
   "metadata": {
    "pycharm": {
     "name": "#%% md\n"
    }
   },
   "source": [
    "#### <font color='#bc00b0'>Please fill in the required values:</font>"
   ]
  },
  {
   "cell_type": "markdown",
   "id": "6d7371ef",
   "metadata": {
    "pycharm": {
     "name": "#%% md\n"
    }
   },
   "source": [
    "<font color='#bc00b0'>(Required) Enter the id of the Dataset Version</font>\n",
    "\n",
    "_A Dataset Version id can be found by using the `/datasets/{dataset_id}/versions` OR `/collections/{collection_id}/versions` endpoints and filtering for the Dataset Version of interest OR by looking at the url path in the address when viewing your Dataset Version using the CZ CELLxGENE Explorer browser tool: `/e/{dataset_version_id}.cxg/`._"
   ]
  },
  {
   "cell_type": "code",
   "execution_count": null,
   "id": "ca707859",
   "metadata": {
    "pycharm": {
     "name": "#%%\n"
    }
   },
   "outputs": [],
   "source": [
    "dataset_version_id = \"abcdef01-2345-6789-abcd-ef0123456789\""
   ]
  },
  {
   "cell_type": "markdown",
   "id": "285a1ca4",
   "metadata": {
    "pycharm": {
     "name": "#%% md\n"
    }
   },
   "source": [
    "### Specify domain (and API url)"
   ]
  },
  {
   "cell_type": "code",
   "execution_count": null,
   "id": "bea213f4",
   "metadata": {
    "pycharm": {
     "name": "#%%\n"
    }
   },
   "outputs": [],
   "source": [
    "domain_name = \"cellxgene.cziscience.com\"\n",
    "site_url = f\"https://{domain_name}\"\n",
    "api_url_base = f\"https://api.{domain_name}\""
   ]
  },
  {
   "cell_type": "markdown",
   "id": "6085d322",
   "metadata": {
    "pycharm": {
     "name": "#%% md\n"
    }
   },
   "source": [
    "### Formulate request and fetch a Dataset Version's metadata"
   ]
  },
  {
   "cell_type": "code",
   "execution_count": null,
   "id": "cb3dd36b",
   "metadata": {
    "pycharm": {
     "name": "#%%\n"
    }
   },
   "outputs": [],
   "source": [
    "dataset_version_path = f\"/curation/v1/dataset_versions/{dataset_version_id}\"\n",
    "url = f\"{api_url_base}{dataset_version_path}\"\n",
    "res = requests.get(url=url)\n",
    "res.raise_for_status()\n",
    "res_content = res.json()\n",
    "print(res_content)"
   ]
  },
  {
   "cell_type": "markdown",
   "source": [
    "### Download Dataset Assets\n",
    "\n",
    "The dataset metadata provides download URLs for every asset associated with this particular dataset version.\n",
    "\n",
    "These download URLs are permalinks to download the assets for this dataset version."
   ],
   "metadata": {
    "collapsed": false,
    "pycharm": {
     "name": "#%% md\n"
    }
   }
  },
  {
   "cell_type": "code",
   "execution_count": null,
   "outputs": [],
   "source": [
    "assets = res_content[\"assets\"]\n",
    "dataset_id = res_content[\"dataset_version_id\"]\n",
    "for asset in assets:\n",
    "    download_filename = f\"{dataset_id}.{asset['filetype']}\"\n",
    "    print(f\"\\nDownloading {download_filename}... \")\n",
    "    with requests.get(asset[\"url\"], stream=True) as res:\n",
    "        res.raise_for_status()\n",
    "        filesize = int(res.headers[\"Content-Length\"])\n",
    "        with open(download_filename, \"wb\") as df:\n",
    "            total_bytes_received = 0\n",
    "            for chunk in res.iter_content(chunk_size=1024 * 1024):\n",
    "                df.write(chunk)\n",
    "                total_bytes_received += len(chunk)\n",
    "                percent_of_total_upload = float(\"{:.1f}\".format(total_bytes_received / filesize * 100))\n",
    "                color = \"\\033[38;5;10m\" if percent_of_total_upload == 100 else \"\"\n",
    "                print(f\"\\033[1m{color}{percent_of_total_upload}% downloaded\\033[0m\\r\", end=\"\")\n",
    "print(\"\\n\\nDone downloading assets\")"
   ],
   "metadata": {
    "collapsed": false,
    "pycharm": {
     "name": "#%%\n"
    }
   }
  }
 ],
 "metadata": {
  "kernelspec": {
   "display_name": "Python 3 (ipykernel)",
   "language": "python",
   "name": "python3"
  },
  "language_info": {
   "codemirror_mode": {
    "name": "ipython",
    "version": 3
   },
   "file_extension": ".py",
   "mimetype": "text/x-python",
   "name": "python",
   "nbconvert_exporter": "python",
   "pygments_lexer": "ipython3",
   "version": "3.8.6"
  }
 },
 "nbformat": 4,
 "nbformat_minor": 5
}