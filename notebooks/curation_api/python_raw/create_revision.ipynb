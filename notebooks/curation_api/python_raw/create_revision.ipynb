{
 "cells": [
  {
   "cell_type": "markdown",
   "id": "c5490d93",
   "metadata": {},
   "source": [
    "# Create a revision of a published Collection"
   ]
  },
  {
   "cell_type": "markdown",
   "id": "74560383",
   "metadata": {},
   "source": [
    "The script in this notebook creates a private revision of a published Collection.\n",
    "\n",
    "In order to use this script, you must have a Curation API key (obtained from upper-righthand dropdown in the Data Portal UI after logging in)."
   ]
  },
  {
   "cell_type": "markdown",
   "id": "edfb1272",
   "metadata": {},
   "source": [
    "### Import dependencies"
   ]
  },
  {
   "cell_type": "code",
   "execution_count": null,
   "id": "1cff472c",
   "metadata": {},
   "outputs": [],
   "source": [
    "import requests"
   ]
  },
  {
   "cell_type": "markdown",
   "id": "928aa50e",
   "metadata": {},
   "source": [
    "#### <font color='#bc00b0'>Please fill in the required values:</font>"
   ]
  },
  {
   "cell_type": "markdown",
   "id": "2c9a0189",
   "metadata": {},
   "source": [
    "<font color='#bc00b0'>(Required) Provide the path to your api key file</font>"
   ]
  },
  {
   "cell_type": "code",
   "execution_count": null,
   "id": "a4b6087b",
   "metadata": {},
   "outputs": [],
   "source": [
    "api_key_file_path = \"path/to/api-key.txt\""
   ]
  },
  {
   "cell_type": "markdown",
   "id": "3e9f83cb",
   "metadata": {},
   "source": [
    "<font color='#bc00b0'>(Required) Enter the id of the Collection for which you want to start a revision</font>\n",
    "\n",
    "_The Collection id can be found by looking at the url path in the address bar \n",
    "when viewing your Collection in the UI of the Data Portal website:_ `collections/{collection_id}`."
   ]
  },
  {
   "cell_type": "code",
   "execution_count": null,
   "id": "a15e03a3",
   "metadata": {},
   "outputs": [],
   "source": [
    "collection_id = \"01234567-89ab-cdef-0123-456789abcdef\""
   ]
  },
  {
   "cell_type": "markdown",
   "id": "285a1ca4",
   "metadata": {},
   "source": [
    "### Specify domain (and API url)"
   ]
  },
  {
   "cell_type": "code",
   "execution_count": null,
   "id": "bea213f4",
   "metadata": {},
   "outputs": [],
   "source": [
    "domain_name = \"cellxgene.cziscience.com\"\n",
    "site_url = f\"https://{domain_name}\"\n",
    "api_url_base = f\"https://api.{domain_name}\""
   ]
  },
  {
   "cell_type": "markdown",
   "id": "4e9be6c4",
   "metadata": {},
   "source": [
    "### Use API key to obtain a temporary access token"
   ]
  },
  {
   "cell_type": "code",
   "execution_count": null,
   "id": "4ab5032b",
   "metadata": {},
   "outputs": [],
   "source": [
    "with open(api_key_file_path) as f:\n",
    "    api_key = f.read()\n",
    "access_token_path = \"/curation/v1/auth/token\"\n",
    "access_token_url = f\"{api_url_base}{access_token_path}\"\n",
    "res = requests.post(access_token_url, headers={\"x-api-key\": api_key})\n",
    "res.raise_for_status()\n",
    "access_token = res.json().get(\"access_token\")"
   ]
  },
  {
   "cell_type": "markdown",
   "id": "e51b9169",
   "metadata": {},
   "source": [
    "##### (optional, debug) verify status code of response"
   ]
  },
  {
   "cell_type": "code",
   "execution_count": null,
   "id": "28978522",
   "metadata": {},
   "outputs": [],
   "source": [
    "print(res.status_code)"
   ]
  },
  {
   "cell_type": "markdown",
   "id": "6085d322",
   "metadata": {},
   "source": [
    "### Formulate request and create a revision of a public Collection"
   ]
  },
  {
   "cell_type": "code",
   "execution_count": null,
   "id": "cb3dd36b",
   "metadata": {},
   "outputs": [],
   "source": [
    "revision_path = f\"/curation/v1/collections/{collection_id}/revision\"\n",
    "url = f\"{api_url_base}{revision_path}\"\n",
    "bearer_token = f\"Bearer {access_token}\"\n",
    "res = requests.post(url=url, headers={\"Authorization\": bearer_token})\n",
    "res.raise_for_status()\n",
    "res_content = res.json()\n",
    "revision_id = res_content[\"revision_id\"]\n",
    "print(\"Revision id:\")\n",
    "print(revision_id)\n",
    "print(\"Revision url:\")\n",
    "print(f\"{site_url}/collections/{revision_id}\")"
   ]
  }
 ],
 "metadata": {
  "kernelspec": {
   "display_name": "Python 3 (ipykernel)",
   "language": "python",
   "name": "python3"
  },
  "language_info": {
   "codemirror_mode": {
    "name": "ipython",
    "version": 3
   },
   "file_extension": ".py",
   "mimetype": "text/x-python",
   "name": "python",
   "nbconvert_exporter": "python",
   "pygments_lexer": "ipython3",
   "version": "3.8.6"
  }
 },
 "nbformat": 4,
 "nbformat_minor": 5
}
