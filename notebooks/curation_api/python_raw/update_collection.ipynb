{
 "cells": [
  {
   "cell_type": "markdown",
   "id": "c5490d93",
   "metadata": {},
   "source": [
    "# Update a Collection's metadata"
   ]
  },
  {
   "cell_type": "markdown",
   "id": "74560383",
   "metadata": {},
   "source": [
    "The script in this notebook updates the metadata for a private Collection (revision or unpublished).\n",
    "\n",
    "In order to edit Collections with this script, you must have a Curation API key (obtained from upper-righthand dropdown in the Data Portal UI after logging in)."
   ]
  },
  {
   "cell_type": "markdown",
   "id": "edfb1272",
   "metadata": {},
   "source": [
    "### Import dependencies"
   ]
  },
  {
   "cell_type": "code",
   "execution_count": null,
   "id": "1cff472c",
   "metadata": {},
   "outputs": [],
   "source": [
    "import requests"
   ]
  },
  {
   "cell_type": "markdown",
   "id": "928aa50e",
   "metadata": {},
   "source": [
    "#### <font color='#bc00b0'>Please fill in the required values:</font>"
   ]
  },
  {
   "cell_type": "markdown",
   "id": "2c9a0189",
   "metadata": {},
   "source": [
    "<font color='#bc00b0'>(Required) Provide the path to your api key file</font>"
   ]
  },
  {
   "cell_type": "code",
   "execution_count": null,
   "id": "6ea46d33",
   "metadata": {},
   "outputs": [],
   "source": [
    "api_key_file_path = \"path/to/api-key.txt\""
   ]
  },
  {
   "cell_type": "markdown",
   "id": "18879e44",
   "metadata": {},
   "source": [
    "<font color='#bc00b0'>(Required) Enter the id of the Collection that you want to edit</font>\n",
    "\n",
    "_The Collection id can be found by looking at the url path in the address bar \n",
    "when viewing your Collection in the UI of the Data Portal website:_ `collections/{collection_id}`."
   ]
  },
  {
   "cell_type": "code",
   "execution_count": null,
   "id": "477276b2",
   "metadata": {},
   "outputs": [],
   "source": [
    "collection_id = \"01234567-89ab-cdef-0123-456789abcdef\""
   ]
  },
  {
   "cell_type": "markdown",
   "id": "c329a95d",
   "metadata": {},
   "source": [
    "<font color='#bc00b0'>(Required) Provide the updated Collection form metadata for your existing Collection. **Do not include attributes that you do not wish to change**. If a non-empty list of links is passed in, the existing links on the Collection will all be removed and replaced with the list of links that you provide here. If a DOI link is included but the DOI cannot be found on Crossref or is invalid, the entire request will be rejected.</font>"
   ]
  },
  {
   "cell_type": "code",
   "execution_count": null,
   "id": "14578831",
   "metadata": {},
   "outputs": [],
   "source": [
    "collection_form_metadata = {\n",
    "    \"name\": \"A new, updated name\",\n",
    "    \"links\": [\n",
    "        {\n",
    "            \"link_name\": \"sample protocol link\",\n",
    "            \"link_url\": \"https://www.sample.link\",\n",
    "            \"link_type\": \"PROTOCOL\",\n",
    "        },\n",
    "        {\n",
    "            \"link_name\": \"sample lab website\",\n",
    "            \"link_url\": \"https://www.lab.website\",\n",
    "            \"link_type\": \"LAB_WEBSITE\",\n",
    "        }\n",
    "    ],\n",
    "}"
   ]
  },
  {
   "cell_type": "markdown",
   "id": "285a1ca4",
   "metadata": {},
   "source": [
    "### Specify domain (and API url)"
   ]
  },
  {
   "cell_type": "code",
   "execution_count": null,
   "id": "bea213f4",
   "metadata": {},
   "outputs": [],
   "source": [
    "domain_name = \"cellxgene.cziscience.com\"\n",
    "site_url = f\"https://{domain_name}\"\n",
    "api_url_base = f\"https://api.{domain_name}\""
   ]
  },
  {
   "cell_type": "markdown",
   "id": "4e9be6c4",
   "metadata": {},
   "source": [
    "### Use API key to obtain a temporary access token"
   ]
  },
  {
   "cell_type": "code",
   "execution_count": null,
   "id": "4ab5032b",
   "metadata": {},
   "outputs": [],
   "source": [
    "with open(api_key_file_path) as f:\n",
    "    api_key = f.read()\n",
    "access_token_path = \"/curation/v1/auth/token\"\n",
    "access_token_url = f\"{api_url_base}{access_token_path}\"\n",
    "res = requests.post(access_token_url, headers={\"x-api-key\": api_key})\n",
    "res.raise_for_status()\n",
    "access_token = res.json().get(\"access_token\")"
   ]
  },
  {
   "cell_type": "markdown",
   "id": "e51b9169",
   "metadata": {},
   "source": [
    "##### (optional, debug) verify status code of response"
   ]
  },
  {
   "cell_type": "code",
   "execution_count": null,
   "id": "28978522",
   "metadata": {},
   "outputs": [],
   "source": [
    "print(res.status_code)"
   ]
  },
  {
   "cell_type": "markdown",
   "id": "6085d322",
   "metadata": {},
   "source": [
    "### Formulate request and update a Collection"
   ]
  },
  {
   "cell_type": "code",
   "execution_count": null,
   "id": "cb3dd36b",
   "metadata": {
    "pycharm": {
     "name": "#%%\n"
    }
   },
   "outputs": [],
   "source": [
    "collection_path = f\"/curation/v1/collections/{collection_id}\"\n",
    "url = f\"{api_url_base}{collection_path}\"\n",
    "bearer_token = f\"Bearer {access_token}\"\n",
    "res = requests.patch(url=url, json=collection_form_metadata, headers={\"Authorization\": bearer_token})\n",
    "res.raise_for_status()\n",
    "res_content = res.json()\n",
    "print(\"Updated the Collection at url:\")\n",
    "print(f\"{site_url}/collections/{collection_id}\")"
   ]
  }
 ],
 "metadata": {
  "kernelspec": {
   "display_name": "Python 3 (ipykernel)",
   "language": "python",
   "name": "python3"
  },
  "language_info": {
   "codemirror_mode": {
    "name": "ipython",
    "version": 3
   },
   "file_extension": ".py",
   "mimetype": "text/x-python",
   "name": "python",
   "nbconvert_exporter": "python",
   "pygments_lexer": "ipython3",
   "version": "3.8.6"
  }
 },
 "nbformat": 4,
 "nbformat_minor": 5
}
