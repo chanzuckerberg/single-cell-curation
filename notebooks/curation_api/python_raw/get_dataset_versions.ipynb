{
 "cells": [
  {
   "cell_type": "markdown",
   "id": "c5490d93",
   "metadata": {
    "pycharm": {
     "name": "#%% md\n"
    }
   },
   "source": [
    "\n",
    "# Fetch list of metadata for all Published Versions of a Dataset\n"
   ]
  },
  {
   "cell_type": "markdown",
   "id": "74560383",
   "metadata": {
    "pycharm": {
     "name": "#%% md\n"
    }
   },
   "source": [
    "The script in this notebook retrieves a list of metadata for every previously published version of a given Dataset, as well as the currently published version.\n",
    "\n",
    "Fetching this list of Dataset Versions requires only the Dataset id; it does not require an API key/access token."
   ]
  },
  {
   "cell_type": "markdown",
   "id": "edfb1272",
   "metadata": {
    "pycharm": {
     "name": "#%% md\n"
    }
   },
   "source": [
    "### Import dependencies"
   ]
  },
  {
   "cell_type": "code",
   "execution_count": null,
   "id": "1cff472c",
   "metadata": {
    "pycharm": {
     "name": "#%%\n"
    }
   },
   "outputs": [],
   "source": [
    "import requests"
   ]
  },
  {
   "cell_type": "markdown",
   "id": "968f003d",
   "metadata": {
    "pycharm": {
     "name": "#%% md\n"
    }
   },
   "source": [
    "#### <font color='#bc00b0'>Please fill in the required values:</font>"
   ]
  },
  {
   "cell_type": "markdown",
   "id": "6d7371ef",
   "metadata": {
    "pycharm": {
     "name": "#%% md\n"
    }
   },
   "source": [
    "<font color='#bc00b0'>(Required) Enter the id of the Dataset</font>\n",
    "\n",
    "_The Dataset id can be found by using the `/collections/{collection_id}` endpoint and filtering for the Dataset of interest OR by looking at the url path in the address when viewing your Dataset using the CZ CELLxGENE Explorer browser tool: `/e/{dataset_id}.cxg/`._"
   ]
  },
  {
   "cell_type": "code",
   "execution_count": null,
   "id": "ca707859",
   "metadata": {
    "pycharm": {
     "name": "#%%\n"
    }
   },
   "outputs": [],
   "source": [
    "dataset_id = \"abcdef01-2345-6789-abcd-ef0123456789\""
   ]
  },
  {
   "cell_type": "markdown",
   "id": "285a1ca4",
   "metadata": {
    "pycharm": {
     "name": "#%% md\n"
    }
   },
   "source": [
    "### Specify domain (and API url)"
   ]
  },
  {
   "cell_type": "code",
   "execution_count": null,
   "id": "bea213f4",
   "metadata": {
    "pycharm": {
     "name": "#%%\n"
    }
   },
   "outputs": [],
   "source": [
    "domain_name = \"cellxgene.cziscience.com\"\n",
    "site_url = f\"https://{domain_name}\"\n",
    "api_url_base = f\"https://api.{domain_name}\""
   ]
  },
  {
   "cell_type": "markdown",
   "id": "6085d322",
   "metadata": {
    "pycharm": {
     "name": "#%% md\n"
    }
   },
   "source": [
    "### Formulate request and fetch a list of published Dataset Versions metadata"
   ]
  },
  {
   "cell_type": "code",
   "execution_count": null,
   "id": "cb3dd36b",
   "metadata": {
    "pycharm": {
     "name": "#%%\n"
    }
   },
   "outputs": [],
   "source": [
    "dataset_versions_path = f\"/curation/v1/datasets/{dataset_id}/versions\"\n",
    "url = f\"{api_url_base}{dataset_versions_path}\"\n",
    "res = requests.get(url=url)\n",
    "res.raise_for_status()\n",
    "res_content = res.json()\n",
    "print(res_content)"
   ]
  }
 ],
 "metadata": {
  "kernelspec": {
   "display_name": "Python 3 (ipykernel)",
   "language": "python",
   "name": "python3"
  },
  "language_info": {
   "codemirror_mode": {
    "name": "ipython",
    "version": 3
   },
   "file_extension": ".py",
   "mimetype": "text/x-python",
   "name": "python",
   "nbconvert_exporter": "python",
   "pygments_lexer": "ipython3",
   "version": "3.8.6"
  }
 },
 "nbformat": 4,
 "nbformat_minor": 5
}