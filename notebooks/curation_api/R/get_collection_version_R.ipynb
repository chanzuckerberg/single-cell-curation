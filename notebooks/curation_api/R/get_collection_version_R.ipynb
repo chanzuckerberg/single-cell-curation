{
 "cells": [
  {
   "cell_type": "markdown",
   "id": "c5490d93",
   "metadata": {
    "pycharm": {
     "name": "#%% md\n"
    }
   },
   "source": [
    "# Fetch a Collection Version with full Dataset metadata"
   ]
  },
  {
   "cell_type": "markdown",
   "id": "74560383",
   "metadata": {
    "pycharm": {
     "name": "#%% md\n"
    }
   },
   "source": [
    "The script in this notebook fetches full Collection Version metadata for a given Collection Version.\n",
    "\n",
    "Fetching an individual Collection Version requires only the Collection Version id, and not an API key/access token."
   ]
  },
  {
   "cell_type": "markdown",
   "id": "edfb1272",
   "metadata": {
    "pycharm": {
     "name": "#%% md\n"
    }
   },
   "source": [
    "### Import dependencies"
   ]
  },
  {
   "cell_type": "code",
   "execution_count": null,
   "id": "1cff472c",
   "metadata": {
    "pycharm": {
     "name": "#%%\n"
    }
   },
   "outputs": [],
   "source": [
    "library(\"readr\")\n",
    "library(\"httr\")\n",
    "library(\"stringr\")\n",
    "library(\"rjson\")"
   ]
  },
  {
   "cell_type": "markdown",
   "id": "97459362",
   "metadata": {
    "pycharm": {
     "name": "#%% md\n"
    }
   },
   "source": [
    "#### <font color='#bc00b0'>Please fill in the required values:</font>"
   ]
  },
  {
   "cell_type": "markdown",
   "id": "cb7eb2ae",
   "metadata": {
    "pycharm": {
     "name": "#%% md\n"
    }
   },
   "source": [
    "<font color='#bc00b0'>(Required) Enter the id of the Collection Version you want to fetch</font>\n",
    "\n",
    "_A Collection Version id can be found by making a call to the `/collections/{collection_id}` endpoint for a particular Collection, using its canonical collection ID._"
   ]
  },
  {
   "cell_type": "code",
   "execution_count": null,
   "id": "028f2db9",
   "metadata": {
    "pycharm": {
     "name": "#%%\n"
    }
   },
   "outputs": [],
   "source": [
    "collection_version_id <- \"01234567-89ab-cdef-0123-456789abcdef\""
   ]
  },
  {
   "cell_type": "markdown",
   "id": "285a1ca4",
   "metadata": {
    "pycharm": {
     "name": "#%% md\n"
    }
   },
   "source": [
    "### Specify domain (and API url)"
   ]
  },
  {
   "cell_type": "code",
   "execution_count": null,
   "id": "bea213f4",
   "metadata": {
    "pycharm": {
     "name": "#%%\n"
    }
   },
   "outputs": [],
   "source": [
    "domain_name <- \"cellxgene.cziscience.com\"\n",
    "site_url <- str_interp(\"https://${domain_name}\")\n",
    "api_url_base <- str_interp(\"https://api.${domain_name}\")"
   ]
  },
  {
   "cell_type": "markdown",
   "id": "6085d322",
   "metadata": {
    "pycharm": {
     "name": "#%% md\n"
    }
   },
   "source": [
    "### Formulate request and fetch a Collection Version"
   ]
  },
  {
   "cell_type": "code",
   "execution_count": null,
   "id": "cb3dd36b",
   "metadata": {
    "pycharm": {
     "name": "#%%\n"
    }
   },
   "outputs": [],
   "source": [
    "collection_version_path <- str_interp(\"/curation/v1/collection_versions/${collection_version_id}\")\n",
    "collection_version_url <- str_interp(\"${api_url_base}${collection_version_path}\")\n",
    "res <- GET(url=collection_version_url, `Content-Type`=\"application/json\")\n",
    "stop_for_status(res)\n",
    "res_content <- content(res)\n",
    "print(res_content)"
   ]
  }
 ],
 "metadata": {
  "kernelspec": {
   "display_name": "R",
   "language": "R",
   "name": "ir"
  },
  "language_info": {
   "codemirror_mode": "r",
   "file_extension": ".r",
   "mimetype": "text/x-r-source",
   "name": "R",
   "pygments_lexer": "r",
   "version": "4.2.0"
  }
 },
 "nbformat": 4,
 "nbformat_minor": 5
}