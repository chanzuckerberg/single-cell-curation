{
 "cells": [
  {
   "cell_type": "markdown",
   "id": "c5490d93",
   "metadata": {},
   "source": [
    "# Upload a datafile to a Dataset with an upload link"
   ]
  },
  {
   "cell_type": "markdown",
   "id": "74560383",
   "metadata": {},
   "source": [
    "The script in this notebook creates a Dataset using a user-provided upload link to a datafile. Datasets can only be added or replaced in private Collections (including private revisions of published Collections).\n",
    "\n",
    "In order to use this script, you must have a Curation API key (obtained from upper-righthand dropdown in the CZ CELLxGENE Discover data portal after logging in)."
   ]
  },
  {
   "cell_type": "markdown",
   "id": "edfb1272",
   "metadata": {},
   "source": [
    "### Import dependencies"
   ]
  },
  {
   "cell_type": "code",
   "execution_count": null,
   "id": "1cff472c",
   "metadata": {},
   "outputs": [],
   "source": [
    "library(\"readr\")\n",
    "library(\"httr\")\n",
    "library(\"stringr\")\n",
    "library(\"rjson\")"
   ]
  },
  {
   "cell_type": "markdown",
   "id": "968f003d",
   "metadata": {},
   "source": [
    "#### <font color='#bc00b0'>Please fill in the required values:</font>"
   ]
  },
  {
   "cell_type": "markdown",
   "id": "0268c0a4",
   "metadata": {},
   "source": [
    "<font color='#bc00b0'>(Required) Provide the path to your api key file</font>"
   ]
  },
  {
   "cell_type": "code",
   "execution_count": null,
   "id": "530a8e3f",
   "metadata": {},
   "outputs": [],
   "source": [
    "api_key_file_path <- \"path/to/api-key-file\""
   ]
  },
  {
   "cell_type": "markdown",
   "id": "904d1fc8",
   "metadata": {},
   "source": [
    "<font color='#bc00b0'>(Required) Provide the link to the h5ad datafile to upload</font>"
   ]
  },
  {
   "cell_type": "code",
   "execution_count": null,
   "id": "bb595ec3",
   "metadata": {},
   "outputs": [],
   "source": [
    "datafile_link <- \"https://some.download.link\""
   ]
  },
  {
   "cell_type": "markdown",
   "id": "905d23e3",
   "metadata": {},
   "source": [
    "<font color='#bc00b0'>(Required) Enter the id of the Collection to which you wish to add this datafile as a Dataset</font>\n",
    "\n",
    "_The Collection id can be found by looking at the url path in the address bar \n",
    "when viewing your Collection in the CZ CELLxGENE Discover data portal: `/collections/{collection_id}`. You can only add/replace Datasets in private Collections or private revisions of published Collections. In order to edit a published Collection, you must first create a revision of that Collection._"
   ]
  },
  {
   "cell_type": "code",
   "execution_count": null,
   "id": "fc99f9db",
   "metadata": {},
   "outputs": [],
   "source": [
    "collection_id <- \"01234567-89ab-cdef-0123-456789abcdef\""
   ]
  },
  {
   "cell_type": "markdown",
   "id": "6d7371ef",
   "metadata": {},
   "source": [
    "<font color='#bc00b0'>(Required) Enter the id of the Dataset to which you wish to upload your datafile</font>\n",
    "\n",
    "_The Dataset id can be found by using the `/collections/{collection_id}` endpoint and filtering for the Dataset of interest OR by looking at the url path in the address when viewing your Dataset using the CZ CELLxGENE Explorer browser tool: `/e/{dataset_id}.cxg/`. See heading of create_dataseta_from_local_file.ipynb for rules about adding vs updating Datasets._"
   ]
  },
  {
   "cell_type": "code",
   "execution_count": null,
   "id": "ca707859",
   "metadata": {},
   "outputs": [],
   "source": [
    "dataset_id <- \"abcdef01-2345-6789-abcd-ef0123456789\""
   ]
  },
  {
   "cell_type": "markdown",
   "id": "285a1ca4",
   "metadata": {},
   "source": [
    "### Specify domain (and API url)"
   ]
  },
  {
   "cell_type": "code",
   "execution_count": null,
   "id": "bea213f4",
   "metadata": {},
   "outputs": [],
   "source": [
    "domain_name <- \"cellxgene.cziscience.com\"\n",
    "site_url <- str_interp(\"https://${domain_name}\")\n",
    "api_url_base <- str_interp(\"https://api.${domain_name}\")"
   ]
  },
  {
   "cell_type": "markdown",
   "id": "8d612915",
   "metadata": {},
   "source": [
    "### Use API key to obtain a temporary access token"
   ]
  },
  {
   "cell_type": "code",
   "execution_count": null,
   "id": "b9a2abf1",
   "metadata": {},
   "outputs": [],
   "source": [
    "api_key <- read_file(api_key_file_path)\n",
    "access_token_path <- \"/curation/v1/auth/token\"\n",
    "access_token_url <- str_interp(\"${api_url_base}${access_token_path}\")\n",
    "res <- POST(url=access_token_url, add_headers(`x-api-key`=api_key))\n",
    "stop_for_status(res)\n",
    "access_token <- content(res)$access_token"
   ]
  },
  {
   "cell_type": "markdown",
   "id": "da252c1a",
   "metadata": {},
   "source": [
    "##### (optional, debug) verify status code of response"
   ]
  },
  {
   "cell_type": "code",
   "execution_count": null,
   "id": "7c64e405",
   "metadata": {},
   "outputs": [],
   "source": [
    "print(res$status_code)"
   ]
  },
  {
   "cell_type": "markdown",
   "id": "6085d322",
   "metadata": {},
   "source": [
    "### Formulate request and upload a new dataset from a file link."
   ]
  },
  {
   "cell_type": "code",
   "execution_count": null,
   "id": "cb3dd36b",
   "metadata": {
    "pycharm": {
     "name": "#%%\n"
    }
   },
   "outputs": [],
   "source": [
    "upload_path <- str_interp(\"/curation/v1/collections/${collection_id}/datasets/${dataset_id}\")\n",
    "body <- list(\"link\"=datafile_link)\n",
    "bearer_token <- str_interp(\"Bearer ${access_token}\")\n",
    "url <- str_interp(\"${api_url_base}${upload_path}\")\n",
    "res <- PUT(url=url, body=toJSON(body), add_headers(`Authorization`=bearer_token, `Content-Type`=\"application/json\"))\n",
    "stop_for_status(res)\n",
    "print(res$status_code)"
   ]
  }
 ],
 "metadata": {
  "kernelspec": {
   "display_name": "R",
   "language": "R",
   "name": "ir"
  },
  "language_info": {
   "codemirror_mode": "r",
   "file_extension": ".r",
   "mimetype": "text/x-r-source",
   "name": "R",
   "pygments_lexer": "r",
   "version": "4.2.0"
  }
 },
 "nbformat": 4,
 "nbformat_minor": 5
}
