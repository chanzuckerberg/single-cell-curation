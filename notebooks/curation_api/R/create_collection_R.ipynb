{
 "cells": [
  {
   "cell_type": "markdown",
   "id": "c5490d93",
   "metadata": {},
   "source": [
    "# Create a new private Collection"
   ]
  },
  {
   "cell_type": "markdown",
   "id": "74560383",
   "metadata": {},
   "source": [
    "The script in this notebook creates a new private Collection.\n",
    "\n",
    "In order to use this script, you must have a Curation API key (obtained from upper-righthand dropdown in the CZ CELLxGENE Discover data portal after logging in)."
   ]
  },
  {
   "cell_type": "markdown",
   "id": "edfb1272",
   "metadata": {},
   "source": [
    "### Import dependencies"
   ]
  },
  {
   "cell_type": "code",
   "execution_count": null,
   "id": "1cff472c",
   "metadata": {},
   "outputs": [],
   "source": [
    "library(\"readr\")\n",
    "library(\"httr\")\n",
    "library(\"stringr\")\n",
    "library(\"rjson\")"
   ]
  },
  {
   "cell_type": "markdown",
   "id": "928aa50e",
   "metadata": {},
   "source": [
    "#### <font color='#bc00b0'>Please fill in the required values:</font>"
   ]
  },
  {
   "cell_type": "markdown",
   "id": "2c9a0189",
   "metadata": {},
   "source": [
    "<font color='#bc00b0'>(Required) Provide the path to your api key file</font>"
   ]
  },
  {
   "cell_type": "code",
   "execution_count": null,
   "id": "a4b6087b",
   "metadata": {},
   "outputs": [],
   "source": [
    "api_key_file_path <- \"path/to/api-key.txt\""
   ]
  },
  {
   "cell_type": "markdown",
   "id": "285a1ca4",
   "metadata": {},
   "source": [
    "### Specify domain (and API url)"
   ]
  },
  {
   "cell_type": "code",
   "execution_count": null,
   "id": "bea213f4",
   "metadata": {},
   "outputs": [],
   "source": [
    "domain_name <- \"cellxgene.cziscience.com\"\n",
    "site_url <- str_interp(\"https://${domain_name}\")\n",
    "api_url_base <- str_interp(\"https://api.${domain_name}\")"
   ]
  },
  {
   "cell_type": "markdown",
   "id": "4e9be6c4",
   "metadata": {},
   "source": [
    "### Use API key to obtain a temporary access token"
   ]
  },
  {
   "cell_type": "code",
   "execution_count": null,
   "id": "4ab5032b",
   "metadata": {},
   "outputs": [],
   "source": [
    "api_key <- read_file(api_key_file_path)\n",
    "access_token_path <- \"/curation/v1/auth/token\"\n",
    "access_token_url <- str_interp(\"${api_url_base}${access_token_path}\")\n",
    "res <- POST(url=access_token_url, add_headers(`x-api-key`=api_key))\n",
    "stop_for_status(res)\n",
    "access_token <- content(res)$access_token"
   ]
  },
  {
   "cell_type": "markdown",
   "id": "e51b9169",
   "metadata": {},
   "source": [
    "##### (optional, debug) verify status code of response"
   ]
  },
  {
   "cell_type": "code",
   "execution_count": null,
   "id": "28978522",
   "metadata": {},
   "outputs": [],
   "source": [
    "print(res$status_code)"
   ]
  },
  {
   "cell_type": "markdown",
   "id": "ce95a93a",
   "metadata": {},
   "source": [
    "<font color='#bc00b0'>(Required) Provide the updated Collection form metadata for your new Collection. If included, the DOI must be in the form of a [CURIE Reference](https://www.w3.org/TR/2010/NOTE-curie-20101216/#s_syntax), and if it cannot be found on Crossref or is invalid, the entire request will be rejected.</font>"
   ]
  },
  {
   "cell_type": "code",
   "execution_count": null,
   "id": "c711049d",
   "metadata": {},
   "outputs": [],
   "source": [
    "collection_form_metadata <- list(\n",
    "  name = \"Name\",  # Required\n",
    "  description = \"A sample description\",  # Required\n",
    "  contact_name = \"First Last\",  # Required\n",
    "  contact_email = \"firstlast@email.com\",  # Required\n",
    "  doi = \"10.1093/ajae/aaq063\",\n",
    "  links = list(\n",
    "      list(\n",
    "          link_name = \"sample protocol link\",\n",
    "          link_url = \"https://www.sample.link\",\n",
    "          link_type = \"PROTOCOL\"\n",
    "      ),\n",
    "      list(\n",
    "          link_name = \"sample lab website\",\n",
    "          link_url = \"https://www.lab.website\",\n",
    "          link_type = \"LAB_WEBSITE\"\n",
    "      )\n",
    "  )\n",
    ")"
   ]
  },
  {
   "cell_type": "markdown",
   "id": "6085d322",
   "metadata": {},
   "source": [
    "### Formulate request and create new private Collection"
   ]
  },
  {
   "cell_type": "code",
   "execution_count": null,
   "id": "cb3dd36b",
   "metadata": {},
   "outputs": [],
   "source": [
    "collections_path <- \"/curation/v1/collections\"\n",
    "url <- str_interp(\"${api_url_base}${collections_path}\")\n",
    "bearer_token <- str_interp(\"Bearer ${access_token}\")\n",
    "res <- POST(\n",
    "    url=url, body=toJSON(collection_form_metadata),\n",
    "    add_headers(`Authorization`=bearer_token, `Content-Type`=\"application/json\")\n",
    ")\n",
    "stop_for_status(res)\n",
    "res_content <- content(res)\n",
    "collection_id <- res_content$id\n",
    "print(\"New private Collection id:\")\n",
    "print(collection_id)\n",
    "print(\"New private Collection url:\")\n",
    "print(str_interp(\"${site_url}/collections/${collection_id}\"))"
   ]
  }
 ],
 "metadata": {
  "kernelspec": {
   "display_name": "R",
   "language": "R",
   "name": "ir"
  },
  "language_info": {
   "codemirror_mode": "r",
   "file_extension": ".r",
   "mimetype": "text/x-r-source",
   "name": "R",
   "pygments_lexer": "r",
   "version": "4.2.0"
  }
 },
 "nbformat": 4,
 "nbformat_minor": 5
}
