{
 "cells": [
  {
   "cell_type": "markdown",
   "id": "c5490d93",
   "metadata": {},
   "source": [
    "# Download a Dataset's available assets"
   ]
  },
  {
   "cell_type": "markdown",
   "id": "74560383",
   "metadata": {},
   "source": [
    "The script in this notebook retrieves download links for a Dataset and then uses those links to download all available assets.\n",
    "\n",
    "Fetching a Dataset requires only the Collection id and the Dataset id; it does not require an API key/access token."
   ]
  },
  {
   "cell_type": "markdown",
   "id": "edfb1272",
   "metadata": {},
   "source": [
    "### Import dependencies"
   ]
  },
  {
   "cell_type": "code",
   "execution_count": 133,
   "id": "1cff472c",
   "metadata": {},
   "outputs": [],
   "source": [
    "library(\"readr\")\n",
    "library(\"httr\")\n",
    "library(\"stringr\")\n",
    "library(\"rjson\")"
   ]
  },
  {
   "cell_type": "markdown",
   "id": "968f003d",
   "metadata": {},
   "source": [
    "#### <font color='#bc00b0'>Please fill in the required values:</font>"
   ]
  },
  {
   "cell_type": "markdown",
   "id": "0268c0a4",
   "metadata": {},
   "source": [
    "<font color='#bc00b0'>(Required) Enter the id of the Collection that contains the Dataset for which you want to fetch download links</font>\n",
    "\n",
    "_The Collection id can be found by looking at the url path in the address bar \n",
    "when viewing your Collection in the CZ CELLxGENE Discover data portal: `/collections/{collection_id}`._"
   ]
  },
  {
   "cell_type": "code",
   "execution_count": 134,
   "id": "fc99f9db",
   "metadata": {},
   "outputs": [],
   "source": [
    "collection_id <- \"01234567-89ab-cdef-0123-456789abcdef\"\n",
    "collection_id <- \"2ec4249f-056e-468b-a1d4-f4767e92e202\""
   ]
  },
  {
   "cell_type": "markdown",
   "id": "6d7371ef",
   "metadata": {},
   "source": [
    "<font color='#bc00b0'>(Required) Enter the id of the Dataset for which you want to fetch download links</font>\n",
    "\n",
    "_The Dataset id can be found by using the `/collections/{collection_id}` endpoint and filtering for the Dataset of interest OR by looking at the url path in the address when viewing your Dataset using the CZ CELLxGENE Explorer browser tool: `/e/{dataset_id}.cxg/`._"
   ]
  },
  {
   "cell_type": "code",
   "execution_count": 135,
   "id": "ca707859",
   "metadata": {},
   "outputs": [],
   "source": [
    "dataset_id <- \"abcdef01-2345-6789-abcd-ef0123456789\"\n",
    "dataset_id <- \"f9388592-6cf9-478f-9921-d4cab9237f06\""
   ]
  },
  {
   "cell_type": "markdown",
   "id": "285a1ca4",
   "metadata": {},
   "source": [
    "### Specify domain (and API url)"
   ]
  },
  {
   "cell_type": "code",
   "execution_count": 136,
   "id": "bea213f4",
   "metadata": {},
   "outputs": [],
   "source": [
    "domain_name <- \"cellxgene.cziscience.com\"\n",
    "domain_name <- \"cellxgene.dev.single-cell.czi.technology\"\n",
    "site_url <- str_interp(\"https://${domain_name}\")\n",
    "api_url_base <- str_interp(\"https://api.${domain_name}\")"
   ]
  },
  {
   "cell_type": "markdown",
   "id": "6085d322",
   "metadata": {},
   "source": [
    "### Formulate request and fetch a Dataset's assets"
   ]
  },
  {
   "cell_type": "code",
   "execution_count": 137,
   "id": "cb3dd36b",
   "metadata": {
    "pycharm": {
     "name": "#%%\n"
    }
   },
   "outputs": [],
   "source": [
    "assets_path <- str_interp(\"/curation/v1/collections/${collection_id}/datasets/${dataset_id}/assets\")\n",
    "url <- str_interp(\"${api_url_base}${assets_path}\")\n",
    "res <- GET(url=url, add_headers(`Content-Type`=\"application/json\"))\n",
    "stop_for_status(res)"
   ]
  },
  {
   "cell_type": "markdown",
   "id": "80a72811",
   "metadata": {},
   "source": [
    "### Use download links to download assets"
   ]
  },
  {
   "cell_type": "code",
   "execution_count": 138,
   "id": "2f048346",
   "metadata": {},
   "outputs": [
    {
     "name": "stdout",
     "output_type": "stream",
     "text": [
      "[1] \"Downloading H5AD file to 2ec4249f-056e-468b-a1d4-f4767e92e202_f9388592-6cf9-478f-9921-d4cab9237f06_local.h5ad... \"\n",
      "[1] \"raw\"\n",
      "[1] 16949\n",
      "[1] \"tbr\"\n",
      "[1] 16949\n",
      "3.5% downloaded[1] \"raw\"\n",
      "[1] 17408\n",
      "[1] \"tbr\"\n",
      "[1] 17408\n",
      "3.6% downloaded[1] \"raw\"\n",
      "[1] 17408\n",
      "[1] \"tbr\"\n",
      "[1] 17408\n",
      "3.6% downloaded[1] \"raw\"\n",
      "[1] 17408\n",
      "[1] \"tbr\"\n",
      "[1] 17408\n",
      "3.6% downloaded[1] \"raw\"\n",
      "[1] 17408\n",
      "[1] \"tbr\"\n",
      "[1] 17408\n",
      "3.6% downloaded[1] \"raw\"\n",
      "[1] 17408\n",
      "[1] \"tbr\"\n",
      "[1] 17408\n",
      "3.6% downloaded[1] \"raw\"\n",
      "[1] 17408\n",
      "[1] \"tbr\"\n",
      "[1] 17408\n",
      "3.6% downloaded[1] \"raw\"\n",
      "[1] 17408\n",
      "[1] \"tbr\"\n",
      "[1] 17408\n",
      "3.6% downloaded[1] \"raw\"\n",
      "[1] 17408\n",
      "[1] \"tbr\"\n",
      "[1] 17408\n",
      "3.6% downloaded[1] \"raw\"\n",
      "[1] 17408\n",
      "[1] \"tbr\"\n",
      "[1] 17408\n",
      "3.6% downloaded[1] \"raw\"\n",
      "[1] 17408\n",
      "[1] \"tbr\"\n",
      "[1] 17408\n",
      "3.6% downloaded[1] \"raw\"\n",
      "[1] 17408\n",
      "[1] \"tbr\"\n",
      "[1] 17408\n",
      "3.6% downloaded[1] \"raw\"\n",
      "[1] 17408\n",
      "[1] \"tbr\"\n",
      "[1] 17408\n",
      "3.6% downloaded[1] \"raw\"\n",
      "[1] 17408\n",
      "[1] \"tbr\"\n",
      "[1] 17408\n",
      "3.6% downloaded[1] \"raw\"\n",
      "[1] 17408\n",
      "[1] \"tbr\"\n",
      "[1] 17408\n",
      "3.6% downloaded[1] \"raw\"\n",
      "[1] 17408\n",
      "[1] \"tbr\"\n",
      "[1] 17408\n",
      "3.6% downloaded[1] \"raw\"\n",
      "[1] 17408\n",
      "[1] \"tbr\"\n",
      "[1] 17408\n",
      "3.6% downloaded[1] \"raw\"\n",
      "[1] 17408\n",
      "[1] \"tbr\"\n",
      "[1] 17408\n",
      "3.6% downloaded[1] \"raw\"\n",
      "[1] 17408\n",
      "[1] \"tbr\"\n",
      "[1] 17408\n",
      "3.6% downloaded[1] \"raw\"\n",
      "[1] 17408\n",
      "[1] \"tbr\"\n",
      "[1] 17408\n",
      "3.6% downloaded[1] \"raw\"\n",
      "[1] 17408\n",
      "[1] \"tbr\"\n",
      "[1] 17408\n",
      "3.6% downloaded[1] \"raw\"\n",
      "[1] 17408\n",
      "[1] \"tbr\"\n",
      "[1] 17408\n",
      "3.6% downloaded[1] \"raw\"\n",
      "[1] 17408\n",
      "[1] \"tbr\"\n",
      "[1] 17408\n",
      "3.6% downloaded[1] \"raw\"\n",
      "[1] 17408\n",
      "[1] \"tbr\"\n",
      "[1] 17408\n",
      "3.6% downloaded[1] \"raw\"\n",
      "[1] 17408\n",
      "[1] \"tbr\"\n",
      "[1] 17408\n",
      "3.6% downloaded[1] \"raw\"\n",
      "[1] 17408\n",
      "[1] \"tbr\"\n",
      "[1] 17408\n",
      "3.6% downloaded[1] \"raw\"\n",
      "[1] 17408\n",
      "[1] \"tbr\"\n",
      "[1] 17408\n",
      "3.6% downloaded[1] \"raw\"\n",
      "[1] 7411\n",
      "[1] \"tbr\"\n",
      "[1] 7411\n",
      "1.5% downloaded[1] \"Downloading RDS file to 2ec4249f-056e-468b-a1d4-f4767e92e202_f9388592-6cf9-478f-9921-d4cab9237f06_local.rds... \"\n",
      "[1] \"raw\"\n",
      "[1] 18935\n",
      "[1] \"tbr\"\n",
      "[1] 18935\n",
      "11.3% downloaded[1] \"raw\"\n",
      "[1] 17408\n",
      "[1] \"tbr\"\n",
      "[1] 17408\n",
      "10.4% downloaded[1] \"raw\"\n",
      "[1] 17408\n",
      "[1] \"tbr\"\n",
      "[1] 17408\n",
      "10.4% downloaded[1] \"raw\"\n",
      "[1] 17408\n",
      "[1] \"tbr\"\n",
      "[1] 17408\n",
      "10.4% downloaded[1] \"raw\"\n",
      "[1] 17408\n",
      "[1] \"tbr\"\n",
      "[1] 17408\n",
      "10.4% downloaded[1] \"raw\"\n",
      "[1] 17408\n",
      "[1] \"tbr\"\n",
      "[1] 17408\n",
      "10.4% downloaded[1] \"raw\"\n",
      "[1] 17408\n",
      "[1] \"tbr\"\n",
      "[1] 17408\n",
      "10.4% downloaded[1] \"raw\"\n",
      "[1] 17408\n",
      "[1] \"tbr\"\n",
      "[1] 17408\n",
      "10.4% downloaded[1] \"raw\"\n",
      "[1] 17408\n",
      "[1] \"tbr\"\n",
      "[1] 17408\n",
      "10.4% downloaded[1] \"raw\"\n",
      "[1] 8856\n",
      "[1] \"tbr\"\n",
      "[1] 8856\n",
      "5.3% downloaded[1] \"Done downloading assets\"\n"
     ]
    }
   ],
   "source": [
    "assets <- content(res)\n",
    "for (asset in assets) {\n",
    "    download_filename <- str_interp(\"${collection_id}_${dataset_id}_${asset$filename}\")\n",
    "    print(str_interp(\"Downloading ${asset$filetype} file to ${download_filename}... \"))\n",
    "    df <- file(download_filename, \"wb\")\n",
    "    # AWS presigned urls do not provide \"Content-Length\" in response to HEAD, so we use a GET of 0 bytes\n",
    "    res <- GET(asset$presigned_url, config = add_headers(Range = 'bytes=0'))\n",
    "    filesize <- strtoi(res$headers$`Content-Length`)\n",
    "    total_bytes_received <- 0\n",
    "    res <- GET(\n",
    "        asset$presigned_url,\n",
    "        write_stream(function(bytes) {\n",
    "            print(typeof(bytes))\n",
    "            print(length(bytes))\n",
    "            writeBin(bytes, df)\n",
    "            total_bytes_received <- total_bytes_received + length(bytes)\n",
    "            print(\"tbr\")\n",
    "            print(total_bytes_received)\n",
    "            percent_of_total_upload <- trunc(total_bytes_received / filesize * 100 * 10) / 10\n",
    "            cat(str_interp(\"${percent_of_total_upload}% downloaded\"))\n",
    "        })\n",
    "    )\n",
    "    close(df)\n",
    "    stop_for_status(res)\n",
    "}\n",
    "print(\"Done downloading assets\")"
   ]
  }
 ],
 "metadata": {
  "kernelspec": {
   "display_name": "R",
   "language": "R",
   "name": "ir"
  },
  "language_info": {
   "codemirror_mode": "r",
   "file_extension": ".r",
   "mimetype": "text/x-r-source",
   "name": "R",
   "pygments_lexer": "r",
   "version": "4.2.0"
  }
 },
 "nbformat": 4,
 "nbformat_minor": 5
}
