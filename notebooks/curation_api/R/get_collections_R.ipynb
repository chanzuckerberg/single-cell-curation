{
 "cells": [
  {
   "cell_type": "markdown",
   "id": "c5490d93",
   "metadata": {},
   "source": [
    "# Fetch Collections index with Dataset previews"
   ]
  },
  {
   "cell_type": "markdown",
   "id": "74560383",
   "metadata": {},
   "source": [
    "The script in this notebook fetches... \n",
    "- all public Collections (with query param `visibility=PUBLIC` or not set).\n",
    "\n",
    "or\n",
    "- all accessible private Collections (with query param `visibility=PRIVATE`; access token required).\n",
    "\n",
    "In order to fetch private Collections with this script, you must have a Curation API key (obtained from upper-righthand dropdown in the Data Portal UI after logging in). You may fetch public Collections without an API key / access token."
   ]
  },
  {
   "cell_type": "markdown",
   "id": "edfb1272",
   "metadata": {},
   "source": [
    "### Import dependencies"
   ]
  },
  {
   "cell_type": "code",
   "execution_count": null,
   "id": "1cff472c",
   "metadata": {},
   "outputs": [],
   "source": [
    "library(\"readr\")\n",
    "library(\"httr\")\n",
    "library(\"stringr\")\n",
    "library(\"rjson\")"
   ]
  },
  {
   "cell_type": "markdown",
   "id": "97459362",
   "metadata": {},
   "source": [
    "#### <font color='#bc00b0'>Please fill in the required values:</font>"
   ]
  },
  {
   "cell_type": "markdown",
   "id": "cb7eb2ae",
   "metadata": {},
   "source": [
    "<font color='#bc00b0'>(Required for fetching private Collections) Provide the path to your api key file</font>"
   ]
  },
  {
   "cell_type": "code",
   "execution_count": null,
   "id": "028f2db9",
   "metadata": {},
   "outputs": [],
   "source": [
    "api_key_file_path <- \"path/to/api-key-file\""
   ]
  },
  {
   "cell_type": "markdown",
   "id": "d71a3073",
   "metadata": {},
   "source": [
    "<font color='#bc00b0'>(Optional) Specify visibility and/or curator name</font>"
   ]
  },
  {
   "cell_type": "code",
   "execution_count": null,
   "id": "c9de682f",
   "metadata": {},
   "outputs": [],
   "source": [
    "query_params = list()\n",
    "# query_params[\"visibility\"] <- \"PRIVATE\"  # default is PUBLIC"
   ]
  },
  {
   "cell_type": "markdown",
   "id": "285a1ca4",
   "metadata": {},
   "source": [
    "### Specify domain (and API url)"
   ]
  },
  {
   "cell_type": "code",
   "execution_count": null,
   "id": "bea213f4",
   "metadata": {},
   "outputs": [],
   "source": [
    "domain_name <- \"cellxgene.cziscience.com\"\n",
    "site_url <- str_interp(\"https://${domain_name}\")\n",
    "api_url_base <- str_interp(\"https://api.${domain_name}\")"
   ]
  },
  {
   "cell_type": "markdown",
   "id": "1f03503e",
   "metadata": {},
   "source": [
    "### Use API key to obtain a temporary access token"
   ]
  },
  {
   "cell_type": "code",
   "execution_count": null,
   "id": "d19ca5ee",
   "metadata": {},
   "outputs": [],
   "source": [
    "api_key <- read_file(api_key_file_path)\n",
    "access_token_path <- \"/curation/v1/auth/token\"\n",
    "access_token_url <- str_interp(\"${api_url_base}${access_token_path}\")\n",
    "res <- POST(url=access_token_url, add_headers(`x-api-key`=api_key))\n",
    "stop_for_status(res)\n",
    "access_token <- content(res)$access_token"
   ]
  },
  {
   "cell_type": "markdown",
   "id": "6085d322",
   "metadata": {},
   "source": [
    "### Formulate request and fetch Collections"
   ]
  },
  {
   "cell_type": "code",
   "execution_count": null,
   "id": "cb3dd36b",
   "metadata": {
    "pycharm": {
     "name": "#%%\n"
    }
   },
   "outputs": [],
   "source": [
    "collections_path <- str_interp(\"/curation/v1/collections\")\n",
    "url <- str_interp(\"${api_url_base}${collections_path}\")\n",
    "bearer_token <- str_interp(\"Bearer ${access_token}\")\n",
    "res <- GET(url=url, query=query_params, add_headers(`Content-Type`=\"application/json\", `Authorization`=bearer_token))\n",
    "stop_for_status(res)\n",
    "res_content <- content(res)\n",
    "print(res_content)\n"
   ]
  }
 ],
 "metadata": {
  "kernelspec": {
   "display_name": "R",
   "language": "R",
   "name": "ir"
  },
  "language_info": {
   "codemirror_mode": "r",
   "file_extension": ".r",
   "mimetype": "text/x-r-source",
   "name": "R",
   "pygments_lexer": "r",
   "version": "4.2.0"
  }
 },
 "nbformat": 4,
 "nbformat_minor": 5
}
