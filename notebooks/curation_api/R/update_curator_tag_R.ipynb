{
 "cells": [
  {
   "cell_type": "markdown",
   "id": "c5490d93",
   "metadata": {},
   "source": [
    "# Update the curator tag for a Dataset in a private Collection"
   ]
  },
  {
   "cell_type": "markdown",
   "id": "74560383",
   "metadata": {},
   "source": [
    "The script in this notebook updates the curator tag for a Dataset in a private Collection.\n",
    "\n",
    "In order to use this script, you must have a Curation API key (obtained from upper-righthand dropdown in the Data Portal UI after logging in)."
   ]
  },
  {
   "cell_type": "markdown",
   "id": "edfb1272",
   "metadata": {},
   "source": [
    "### Import dependencies"
   ]
  },
  {
   "cell_type": "code",
   "execution_count": null,
   "id": "1cff472c",
   "metadata": {},
   "outputs": [],
   "source": [
    "library(\"readr\")\n",
    "library(\"httr\")\n",
    "library(\"stringr\")\n",
    "library(\"rjson\")"
   ]
  },
  {
   "cell_type": "markdown",
   "id": "968f003d",
   "metadata": {},
   "source": [
    "#### <font color='#bc00b0'>Please fill in the required values:</font>"
   ]
  },
  {
   "cell_type": "markdown",
   "id": "0268c0a4",
   "metadata": {},
   "source": [
    "<font color='#bc00b0'>(Required) Provide the path to your api key file</font>"
   ]
  },
  {
   "cell_type": "code",
   "execution_count": null,
   "id": "530a8e3f",
   "metadata": {},
   "outputs": [],
   "source": [
    "api_key_file_path <- \"path/to/api-key-file\""
   ]
  },
  {
   "cell_type": "markdown",
   "id": "905d23e3",
   "metadata": {},
   "source": [
    "<font color='#bc00b0'>(Required) Enter the id of the Collection that contains the relevant Dataset</font>\n",
    "\n",
    "_The Collection id can be found by looking at the url path in the address bar \n",
    "when viewing your Collection in the UI of the Data Portal website:_ `collections/{collection_id}`."
   ]
  },
  {
   "cell_type": "code",
   "execution_count": null,
   "id": "fc99f9db",
   "metadata": {},
   "outputs": [],
   "source": [
    "collection_id <- \"01234567-89ab-cdef-0123-456789abcdef\""
   ]
  },
  {
   "cell_type": "markdown",
   "id": "6d7371ef",
   "metadata": {},
   "source": [
    "<font color='#bc00b0'>(Required) Enter the identifier (curator tag or Dataset id) of the Dataset whose curator tag you want to update</font>\n",
    "\n",
    "_The `dataset_id` and `curator_tag` can both be found using the_ `/collections/{collection_id}` _endpoint and filtering for these attributes on the Dataset of interest._"
   ]
  },
  {
   "cell_type": "code",
   "execution_count": null,
   "id": "ca707859",
   "metadata": {},
   "outputs": [],
   "source": [
    "identifier <- \"the_tag\"  # Or use the id: \"01234567-89ab-cdef-0123-456789abcdef\""
   ]
  },
  {
   "cell_type": "markdown",
   "id": "aeb7861b",
   "metadata": {},
   "source": [
    "<font color='#bc00b0'>(Required) Enter your new chosen curator tag. **Cannot be empty**.</font>\n",
    "    \n",
    "When using curator tags, we recommmend using a tagging scheme that 1) makes sense to you, and 2) will help organize and facilitate your \n",
    "automation of future uploads for adding new Datasets and replacing existing Datasets."
   ]
  },
  {
   "cell_type": "code",
   "execution_count": null,
   "id": "60da54d5",
   "metadata": {},
   "outputs": [],
   "source": [
    "new_tag <- \"a_new_tag\""
   ]
  },
  {
   "cell_type": "markdown",
   "id": "285a1ca4",
   "metadata": {},
   "source": [
    "### Specify domain (and API url)"
   ]
  },
  {
   "cell_type": "code",
   "execution_count": null,
   "id": "bea213f4",
   "metadata": {},
   "outputs": [],
   "source": [
    "domain_name <- \"cellxgene.cziscience.com\"\n",
    "site_url <- str_interp(\"https://${domain_name}\")\n",
    "api_url_base <- str_interp(\"https://api.${domain_name}\")"
   ]
  },
  {
   "cell_type": "markdown",
   "id": "8d612915",
   "metadata": {},
   "source": [
    "### Use API key to obtain a temporary access token"
   ]
  },
  {
   "cell_type": "code",
   "execution_count": null,
   "id": "b9a2abf1",
   "metadata": {},
   "outputs": [],
   "source": [
    "api_key <- read_file(api_key_file_path)\n",
    "access_token_path <- \"/curation/v1/auth/token\"\n",
    "access_token_url <- str_interp(\"${api_url_base}${access_token_path}\")\n",
    "res <- POST(url=access_token_url, add_headers(`x-api-key`=api_key))\n",
    "stop_for_status(res)\n",
    "access_token <- content(res)$access_token"
   ]
  },
  {
   "cell_type": "markdown",
   "id": "da252c1a",
   "metadata": {},
   "source": [
    "##### (optional, debug) verify status code of response"
   ]
  },
  {
   "cell_type": "code",
   "execution_count": null,
   "id": "7c64e405",
   "metadata": {},
   "outputs": [],
   "source": [
    "print(res$status_code)"
   ]
  },
  {
   "cell_type": "markdown",
   "id": "6085d322",
   "metadata": {},
   "source": [
    "### Formulate request and update a Dataset's curator_tag"
   ]
  },
  {
   "cell_type": "code",
   "execution_count": null,
   "id": "cb3dd36b",
   "metadata": {
    "pycharm": {
     "name": "#%%\n"
    }
   },
   "outputs": [],
   "source": [
    "dataset_path <- str_interp(\"/curation/v1/collections/${collection_id}/datasets\")\n",
    "query_params <- list(\"dataset_id\"=NULL, \"curator_tag\"=identifier)  # use `dataset_id` or `curator_tag`\n",
    "body <- list(\"curator_tag\"=new_tag)\n",
    "bearer_token <- str_interp(\"Bearer ${access_token}\")\n",
    "url <- str_interp(\"${api_url_base}${dataset_path}\")\n",
    "res <- PATCH(\n",
    "    url=url, query=query_params, add_headers(`Authorization`=bearer_token, `Content-Type`=\"application/json\"),\n",
    "    body=toJSON(body)\n",
    ")\n",
    "stop_for_status(res)\n",
    "print(res$status_code)"
   ]
  }
 ],
 "metadata": {
  "kernelspec": {
   "display_name": "R",
   "language": "R",
   "name": "ir"
  },
  "language_info": {
   "codemirror_mode": "r",
   "file_extension": ".r",
   "mimetype": "text/x-r-source",
   "name": "R",
   "pygments_lexer": "r",
   "version": "4.2.0"
  }
 },
 "nbformat": 4,
 "nbformat_minor": 5
}
