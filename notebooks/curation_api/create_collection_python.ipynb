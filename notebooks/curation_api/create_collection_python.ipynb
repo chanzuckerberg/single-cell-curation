{
 "cells": [
  {
   "cell_type": "markdown",
   "id": "c5490d93",
   "metadata": {},
   "source": [
    "# Create a new private Collection"
   ]
  },
  {
   "cell_type": "markdown",
   "id": "74560383",
   "metadata": {},
   "source": [
    "The script in this notebook creates a new private Collection.\n",
    "\n",
    "In order to use this script, you must have a Curation API key (obtained from upper-righthand dropdown in the Data Portal UI after logging in)."
   ]
  },
  {
   "cell_type": "markdown",
   "id": "928aa50e",
   "metadata": {},
   "source": [
    "#### <font color='#bc00b0'>Please fill in the required values:</font>"
   ]
  },
  {
   "cell_type": "markdown",
   "id": "2c9a0189",
   "metadata": {},
   "source": [
    "<font color='#bc00b0'>(Required) Provide the path to your api key file</font>"
   ]
  },
  {
   "cell_type": "code",
   "execution_count": null,
   "id": "a4b6087b",
   "metadata": {},
   "outputs": [],
   "source": [
    "api_key_file = \"path/to/api-key-file\""
   ]
  },
  {
   "cell_type": "markdown",
   "id": "edfb1272",
   "metadata": {},
   "source": [
    "### Import dependencies"
   ]
  },
  {
   "cell_type": "code",
   "execution_count": null,
   "id": "1cff472c",
   "metadata": {},
   "outputs": [],
   "source": [
    "import json\n",
    "import requests"
   ]
  },
  {
   "cell_type": "markdown",
   "id": "285a1ca4",
   "metadata": {},
   "source": [
    "### Specify domain (and API url)"
   ]
  },
  {
   "cell_type": "code",
   "execution_count": null,
   "id": "bea213f4",
   "metadata": {},
   "outputs": [],
   "source": [
    "domain_name = \"cellxgene.cziscience.com\"\n",
    "site_url = f\"https://{domain_name}\"\n",
    "api_url_base = f\"https://api.{domain_name}\""
   ]
  },
  {
   "cell_type": "markdown",
   "id": "4e9be6c4",
   "metadata": {},
   "source": [
    "### Use API key to obtain a temporary access token"
   ]
  },
  {
   "cell_type": "code",
   "execution_count": null,
   "id": "4ab5032b",
   "metadata": {},
   "outputs": [],
   "source": [
    "api_key = open(api_key_file).read().strip()  \n",
    "access_token_headers = {\"x-api-key\": api_key}\n",
    "access_token_path = \"/curation/v1/auth/token\"\n",
    "access_token_url = f\"{api_url_base}{access_token_path}\"\n",
    "res = requests.post(access_token_url, headers=access_token_headers)\n",
    "access_token = res.json().get(\"access_token\")"
   ]
  },
  {
   "cell_type": "markdown",
   "id": "e51b9169",
   "metadata": {},
   "source": [
    "##### (optional, debug) verify status code of response"
   ]
  },
  {
   "cell_type": "code",
   "execution_count": null,
   "id": "28978522",
   "metadata": {},
   "outputs": [],
   "source": [
    "print(res.status_code)"
   ]
  },
  {
   "cell_type": "markdown",
   "id": "ce95a93a",
   "metadata": {},
   "source": [
    "### Collection metadata (required)"
   ]
  },
  {
   "cell_type": "code",
   "execution_count": null,
   "id": "c711049d",
   "metadata": {},
   "outputs": [],
   "source": [
    "collection_form_metadata = {\n",
    "    \"name\": \"Name\",\n",
    "    \"description\": \"A sample description\",\n",
    "    \"contact_name\": \"First Last\",\n",
    "    \"contact_email\": \"firstlast@email.com\",\n",
    "    \"links\": [\n",
    "        {\n",
    "            \"link_name\": \"sample protocol link\",\n",
    "            \"link_url\": \"https://www.sample.link\",\n",
    "            \"link_type\": \"PROTOCOL\",\n",
    "        },\n",
    "        {\n",
    "            \"link_name\": \"sample lab website\",\n",
    "            \"link_url\": \"https://www.lab.website\",\n",
    "            \"link_type\": \"LAB_WEBSITE\",\n",
    "        }\n",
    "    ],\n",
    "}"
   ]
  },
  {
   "cell_type": "markdown",
   "id": "6085d322",
   "metadata": {},
   "source": [
    "### Formulate request and create new private Collection"
   ]
  },
  {
   "cell_type": "code",
   "execution_count": null,
   "id": "cb3dd36b",
   "metadata": {},
   "outputs": [],
   "source": [
    "collections_path = \"/curation/v1/collections\"\n",
    "collections_url = f\"{api_url_base}{collections_path}\"\n",
    "headers = {\"Authorization\": f\"Bearer {access_token}\", \"Content-Type\": \"application/json\"}\n",
    "try:\n",
    "    res = requests.post(collections_url, data=json.dumps(collection_form_metadata), headers=headers).json()\n",
    "except Exception as e:\n",
    "    print(\"\\n\\033[1m\\033[38;5;9mFAILED\\033[0m\")  # 'FAILED' in bold red\n",
    "    print(f\"\\n\\n{e}\")\n",
    "else:\n",
    "    collection_uuid = res.get(\"collection_uuid\")\n",
    "    print(\"\\n\\033[1m\\033[38;5;10mSUCCESS\\033[0m\\n\")  # 'SUCCESS' in bold green\n",
    "    print(f\"New private Collection uuid:\\n{collection_uuid}\\n\")\n",
    "    print(f\"New private Collection url:\\n{site_url}/collections/{collection_uuid}\")"
   ]
  }
 ],
 "metadata": {
  "kernelspec": {
   "display_name": "Python 3 (ipykernel)",
   "language": "python",
   "name": "python3"
  },
  "language_info": {
   "codemirror_mode": {
    "name": "ipython",
    "version": 3
   },
   "file_extension": ".py",
   "mimetype": "text/x-python",
   "name": "python",
   "nbconvert_exporter": "python",
   "pygments_lexer": "ipython3",
   "version": "3.8.6"
  }
 },
 "nbformat": 4,
 "nbformat_minor": 5
}
