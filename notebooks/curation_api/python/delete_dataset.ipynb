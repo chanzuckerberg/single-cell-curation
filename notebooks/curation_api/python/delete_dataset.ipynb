{
 "cells": [
  {
   "cell_type": "markdown",
   "id": "c5490d93",
   "metadata": {},
   "source": [
    "# Delete a Dataset from a private Collection"
   ]
  },
  {
   "cell_type": "markdown",
   "id": "74560383",
   "metadata": {},
   "source": [
    "The script in this notebook deletes a Dataset from a private Collection. Datasets in published Collections can only be deleted (tombstoned) via the UI; they cannot be deleted via the Curator API.\n",
    "\n",
    "In order to use this script, you must have a Curation API key (obtained from upper-righthand dropdown in the Data Portal UI after logging in)."
   ]
  },
  {
   "cell_type": "markdown",
   "id": "928aa50e",
   "metadata": {},
   "source": [
    "#### <font color='#bc00b0'>Please fill in the required values:</font>"
   ]
  },
  {
   "cell_type": "markdown",
   "id": "2c9a0189",
   "metadata": {},
   "source": [
    "<font color='#bc00b0'>(Required) Provide the path to your api key file</font>"
   ]
  },
  {
   "cell_type": "code",
   "execution_count": null,
   "id": "a4b6087b",
   "metadata": {},
   "outputs": [],
   "source": [
    "api_key_file_path = \"path/to/api-key-file\""
   ]
  },
  {
   "cell_type": "markdown",
   "id": "5a497edc",
   "metadata": {},
   "source": [
    "<font color='#bc00b0'>(Required) Enter the uuid of the (private) Collection that contains the Dataset that you want to delete</font>\n",
    "\n",
    "_The Collection uuid can be found by looking at the url path in the address bar \n",
    "when viewing your Collection in the UI of the Data Portal website:_ `collections/{collection_uuid}`."
   ]
  },
  {
   "cell_type": "code",
   "execution_count": null,
   "id": "eab38230",
   "metadata": {},
   "outputs": [],
   "source": [
    "collection_uuid = \"01234567-89ab-cdef-0123-456789abcdef\""
   ]
  },
  {
   "cell_type": "markdown",
   "id": "0849b0dc",
   "metadata": {},
   "source": [
    "<font color='#bc00b0'>(Required) Enter the identifier of the Dataset you want to delete</font>\n",
    "\n",
    "_The Dataset uuid and curator tag can both be found by using the `/collections/{collection_uuid}` endpoint and filtering for the Dataset of interest._"
   ]
  },
  {
   "cell_type": "code",
   "execution_count": null,
   "id": "fe6bfbf1",
   "metadata": {},
   "outputs": [],
   "source": [
    "identifier = \"01234567-89ab-cdef-0123-456789abcdef\"  # Or use the tag: \"the_curator_tag.h5ad\""
   ]
  },
  {
   "cell_type": "markdown",
   "id": "0009d2d0",
   "metadata": {},
   "source": [
    "### Import dependencies"
   ]
  },
  {
   "cell_type": "code",
   "execution_count": null,
   "id": "aadd3c12",
   "metadata": {},
   "outputs": [],
   "source": [
    "from src.utils.config import set_api_access_config\n",
    "from src.utils.logger import set_log_level  # can set_log_level(\"ERROR\") for less logging; default is \"INFO\"\n",
    "from src.dataset import delete_dataset"
   ]
  },
  {
   "cell_type": "markdown",
   "id": "9501afeb",
   "metadata": {},
   "source": [
    "### Set url and access token env vars"
   ]
  },
  {
   "cell_type": "code",
   "execution_count": null,
   "id": "a6aab8e0",
   "metadata": {},
   "outputs": [],
   "source": [
    "set_api_access_config(api_key_file_path)"
   ]
  },
  {
   "cell_type": "markdown",
   "id": "6085d322",
   "metadata": {},
   "source": [
    "### Delete Dataset"
   ]
  },
  {
   "cell_type": "code",
   "execution_count": null,
   "id": "cb3dd36b",
   "metadata": {},
   "outputs": [],
   "source": [
    "delete_dataset(collection_uuid, identifier)"
   ]
  }
 ],
 "metadata": {
  "kernelspec": {
   "display_name": "Python 3 (ipykernel)",
   "language": "python",
   "name": "python3"
  },
  "language_info": {
   "codemirror_mode": {
    "name": "ipython",
    "version": 3
   },
   "file_extension": ".py",
   "mimetype": "text/x-python",
   "name": "python",
   "nbconvert_exporter": "python",
   "pygments_lexer": "ipython3",
   "version": "3.8.6"
  }
 },
 "nbformat": 4,
 "nbformat_minor": 5
}
