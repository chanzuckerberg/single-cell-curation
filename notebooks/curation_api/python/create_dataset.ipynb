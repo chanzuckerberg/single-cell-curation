{
 "cells": [
  {
   "cell_type": "markdown",
   "id": "c5490d93",
   "metadata": {},
   "source": [
    "# Create a Dataset"
   ]
  },
  {
   "cell_type": "markdown",
   "id": "74560383",
   "metadata": {},
   "source": [
    "The script in this notebook creates a new, empty Dataset in the specified Collection. After creation, you can use the returned `dataset_id` with either the `upload_local_datafile_to_dataset.ipynb` notebook or the `upload_datafile_from_link_to_dataset.ipynb` notebook to populate the newly created Dataset with the contents of your datafile.\n",
    "\n",
    "In order to use this script, you must have a Curation API key (obtained from upper-righthand dropdown in the CZ CELLxGENE Discover data portal after logging in)."
   ]
  },
  {
   "cell_type": "markdown",
   "id": "0009d2d0",
   "metadata": {},
   "source": [
    "### Import dependencies"
   ]
  },
  {
   "cell_type": "code",
   "execution_count": null,
   "id": "aadd3c12",
   "metadata": {},
   "outputs": [],
   "source": [
    "from src.utils.config import set_api_access_config  # still required for setting api url env vars\n",
    "from src.utils.logger import set_log_level  # can set_log_level(\"ERROR\") for less logging; default is \"INFO\"\n",
    "from src.dataset import create_dataset"
   ]
  },
  {
   "cell_type": "markdown",
   "id": "928aa50e",
   "metadata": {},
   "source": [
    "#### <font color='#bc00b0'>Please fill in the required values:</font>"
   ]
  },
  {
   "cell_type": "markdown",
   "id": "d94b41ef",
   "metadata": {},
   "source": [
    "<font color='#bc00b0'>(Required) Provide the path to your api key file</font>"
   ]
  },
  {
   "cell_type": "code",
   "execution_count": null,
   "id": "748b52d6",
   "metadata": {},
   "outputs": [],
   "source": [
    "api_key_file_path = \"path/to/api-key-file\""
   ]
  },
  {
   "cell_type": "markdown",
   "id": "4816c4cc",
   "metadata": {},
   "source": [
    "<font color='#bc00b0'>(Required) Enter the id of the Collection in which you would like to create a new Dataset</font>\n",
    "\n",
    "_The Collection id can be found by looking at the url path in the address bar \n",
    "when viewing your Collection in the CZ CELLxGENE Discover data portal: `/collections/{collection_id}`._"
   ]
  },
  {
   "cell_type": "code",
   "execution_count": null,
   "id": "bb82f0f9",
   "metadata": {},
   "outputs": [],
   "source": [
    "collection_id = \"01234567-89ab-cdef-0123-456789abcdef\""
   ]
  },
  {
   "cell_type": "markdown",
   "id": "9501afeb",
   "metadata": {},
   "source": [
    "### Set url env vars"
   ]
  },
  {
   "cell_type": "code",
   "execution_count": null,
   "id": "a6aab8e0",
   "metadata": {},
   "outputs": [],
   "source": [
    "set_api_access_config(api_key_file_path)"
   ]
  },
  {
   "cell_type": "markdown",
   "id": "6085d322",
   "metadata": {},
   "source": [
    "### Fetch Dataset"
   ]
  },
  {
   "cell_type": "code",
   "execution_count": null,
   "id": "cb3dd36b",
   "metadata": {},
   "outputs": [],
   "source": [
    "dataset_id = create_dataset(collection_id)"
   ]
  }
 ],
 "metadata": {
  "kernelspec": {
   "display_name": "Python 3 (ipykernel)",
   "language": "python",
   "name": "python3"
  },
  "language_info": {
   "codemirror_mode": {
    "name": "ipython",
    "version": 3
   },
   "file_extension": ".py",
   "mimetype": "text/x-python",
   "name": "python",
   "nbconvert_exporter": "python",
   "pygments_lexer": "ipython3",
   "version": "3.8.6"
  }
 },
 "nbformat": 4,
 "nbformat_minor": 5
}
