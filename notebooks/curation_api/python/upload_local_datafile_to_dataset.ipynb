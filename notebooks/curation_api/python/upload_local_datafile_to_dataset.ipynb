{
 "cells": [
  {
   "cell_type": "markdown",
   "id": "b68160f6",
   "metadata": {},
   "source": [
    "# Upload a local datafile to add or replace a Dataset in a Collection"
   ]
  },
  {
   "cell_type": "markdown",
   "id": "cd7f8b6d",
   "metadata": {},
   "source": [
    "The script in this notebook performs the upload of a local datafile to a given Collection (as identified by its Collection id), where the datafile becomes a Dataset accessible via the CZ CELLxGENE Discover data portal.\n",
    "\n",
    "In order to use this script, you must have a Curation API key (obtained from upper-righthand dropdown in the CZ CELLxGENE Discover data portal after logging in).\n",
    "\n",
    "_For **new** Datasets_: You must separately create a Dataset (the `create_dataset.ipynb` notebook). Then, use the returned Dataset `id` as the suffix (append to the `UploadKeyPrefix` returned from the `/s3-upload-credentials` endpoint) of the S3 upload key. See code below, or read more detailed instructions about how to submit Datasets via S3 upload in [the description for the credentials endpoint](https://api.cellxgene.cziscience.com/curation/ui/#/collection/backend.corpora.lambdas.api.v1.curation.collections.collection_id.datasets.upload_s3.get).\n",
    "\n",
    "_For **replacing/updating** existing Datasets_: Uploads to a Dataset id that is already populated with data will result in the existing Dataset being replaced by a new Dataset created from the datafile that you are uploading.\n",
    "\n",
    "\n",
    "You can only add/replace Datasets in _private_ Collections or _private Revisions_ of published Collections."
   ]
  },
  {
   "cell_type": "markdown",
   "id": "352deec2",
   "metadata": {},
   "source": [
    "### Import dependencies"
   ]
  },
  {
   "cell_type": "code",
   "execution_count": null,
   "id": "17d70d36",
   "metadata": {},
   "outputs": [],
   "source": [
    "from src.dataset import upload_datafiles_from_manifest, upload_local_datafile\n",
    "from src.utils.config import set_api_access_config"
   ]
  },
  {
   "cell_type": "markdown",
   "id": "50c6c402",
   "metadata": {},
   "source": [
    "#### <font color='#bc00b0'>Please fill in the required values:</font>"
   ]
  },
  {
   "cell_type": "markdown",
   "id": "38afd0cd",
   "metadata": {},
   "source": [
    "<font color='#bc00b0'>(Required) Provide the path to your api key file</font>"
   ]
  },
  {
   "cell_type": "code",
   "execution_count": null,
   "id": "7c8c55fa",
   "metadata": {},
   "outputs": [],
   "source": [
    "api_key_file_path = \"path/to/api-key-file\""
   ]
  },
  {
   "cell_type": "markdown",
   "id": "3e84d52e",
   "metadata": {},
   "source": [
    "<font color='#bc00b0'>(Required) Provide the absolute path to the h5ad datafile to upload</font>"
   ]
  },
  {
   "cell_type": "code",
   "execution_count": null,
   "id": "f46e1874",
   "metadata": {},
   "outputs": [],
   "source": [
    "anndata_file_path = \"/absolute/path/to-datafile.h5ad\"\n",
    "atac_fragment_file_path = \"/absolute/path/to-datafile.tsv.bgz\"\n",
    "manifest = {}"
   ]
  },
  {
   "cell_type": "markdown",
   "id": "104aea94",
   "metadata": {},
   "source": [
    "<font color='#bc00b0'>(Required) Enter the id of the Collection to which you wish to add this datafile as a Dataset</font>\n",
    "\n",
    "_The Collection id can be found by looking at the url path in the address bar \n",
    "when viewing your Collection in the CZ CELLxGENE Discover data portal: `/collections/{collection_id}`. You can only add/replace Datasets in private Collections or private revisions of published Collections. In order to edit a published Collection, you must first create a revision of that Collection._"
   ]
  },
  {
   "cell_type": "code",
   "execution_count": null,
   "id": "f8bb640a",
   "metadata": {},
   "outputs": [],
   "source": [
    "collection_id = \"01234567-89ab-cdef-0123-456789abcdef\""
   ]
  },
  {
   "cell_type": "markdown",
   "id": "463870f1",
   "metadata": {},
   "source": [
    "<font color='#bc00b0'>(Required) Enter the id of the Dataset to which you wish to upload your datafile</font>\n",
    "\n",
    "_The Dataset id can be found by using the `GET /collections/{collection_id}` endpoint and filtering for the Dataset of interest OR by looking at the url path in the address when viewing your Dataset using the CZ CELLxGENE Explorer browser tool: `/e/{dataset_id}.cxg/`. See heading at top for rules about adding vs updating Datasets._"
   ]
  },
  {
   "cell_type": "code",
   "execution_count": null,
   "id": "b2198be1",
   "metadata": {},
   "outputs": [],
   "source": [
    "dataset_id = \"abcdef01-2345-6789-abcd-ef0123456789\""
   ]
  },
  {
   "cell_type": "markdown",
   "id": "beec27c8",
   "metadata": {},
   "source": [
    "### Set url and access token env vars"
   ]
  },
  {
   "cell_type": "code",
   "execution_count": null,
   "id": "7afde78a",
   "metadata": {},
   "outputs": [],
   "source": [
    "set_api_access_config(api_key_file_path)"
   ]
  },
  {
   "cell_type": "markdown",
   "id": "f648e0b2",
   "metadata": {},
   "source": "### Upload Anndata file using temporary s3 credentials"
  },
  {
   "cell_type": "code",
   "execution_count": null,
   "id": "4c332b6f",
   "metadata": {},
   "outputs": [],
   "source": [
    "manifest[\"anndata\"] = upload_local_datafile(anndata_file_path, collection_id, dataset_id)"
   ]
  },
  {
   "metadata": {},
   "cell_type": "markdown",
   "source": "### Upload ATAC Fragment file using temporary s3 credentials (optional)",
   "id": "5c8bdcae9cd3b2ef"
  },
  {
   "metadata": {},
   "cell_type": "code",
   "outputs": [],
   "execution_count": null,
   "source": [
    "manifest[\"atac_fragment\"] = upload_local_datafile(atac_fragment_file_path, collection_id, dataset_id)"
   ],
   "id": "6b6c50bb8d8ee05e"
  },
  {
   "metadata": {},
   "cell_type": "markdown",
   "source": "### Submit the manifest to the dataset",
   "id": "9bdbb52d9c93b73f"
  },
  {
   "metadata": {},
   "cell_type": "code",
   "outputs": [],
   "execution_count": null,
   "source": [
    "upload_datafiles_from_manifest(manifest, collection_id, dataset_id)"
   ],
   "id": "11cf466851ff1949"
  }
 ],
 "metadata": {
  "kernelspec": {
   "display_name": "Python 3 (ipykernel)",
   "language": "python",
   "name": "python3"
  },
  "language_info": {
   "codemirror_mode": {
    "name": "ipython",
    "version": 3
   },
   "file_extension": ".py",
   "mimetype": "text/x-python",
   "name": "python",
   "nbconvert_exporter": "python",
   "pygments_lexer": "ipython3",
   "version": "3.8.6"
  }
 },
 "nbformat": 4,
 "nbformat_minor": 5
}
