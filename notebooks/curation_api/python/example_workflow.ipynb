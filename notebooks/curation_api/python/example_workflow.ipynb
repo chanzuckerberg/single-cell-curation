{
 "cells": [
  {
   "cell_type": "markdown",
   "id": "b68160f6",
   "metadata": {},
   "source": [
    "# Example workflow for creating a Collection, uploading Datasets, and revising"
   ]
  },
  {
   "cell_type": "markdown",
   "id": "4b085e5a",
   "metadata": {},
   "source": [
    "### Set relevant variables"
   ]
  },
  {
   "cell_type": "code",
   "execution_count": null,
   "id": "7c8c55fa",
   "metadata": {},
   "outputs": [],
   "source": [
    "api_key_file_path = \"path/to/api-key-file\""
   ]
  },
  {
   "cell_type": "code",
   "execution_count": null,
   "id": "dc1650ce",
   "metadata": {},
   "outputs": [],
   "source": [
    "collection_form_metadata = {\n",
    "    \"name\": \"Name\",  # required\n",
    "    \"description\": \"A sample description\",  # required\n",
    "    \"contact_name\": \"First Last\",  # required\n",
    "    \"contact_email\": \"firstlast@email.com\",  # required\n",
    "    \"links\": [\n",
    "        {\n",
    "            \"link_name\": \"sample protocol link\",\n",
    "            \"link_url\": \"https://www.sample.link\",\n",
    "            \"link_type\": \"PROTOCOL\",\n",
    "        },\n",
    "        {\n",
    "            \"link_name\": \"sample lab website\",\n",
    "            \"link_url\": \"https://www.lab.website\",\n",
    "            \"link_type\": \"LAB_WEBSITE\",\n",
    "        }\n",
    "    ],\n",
    "}"
   ]
  },
  {
   "cell_type": "markdown",
   "id": "beec27c8",
   "metadata": {},
   "source": [
    "### Set url and access token env vars"
   ]
  },
  {
   "cell_type": "code",
   "execution_count": null,
   "id": "a19e2db6",
   "metadata": {},
   "outputs": [],
   "source": [
    "from src.utils.config import set_api_access_config\n",
    "from src.utils.logger import set_log_level  # can set_log_level(\"ERROR\") for less logging; default is \"INFO\"\n",
    "set_api_access_config(api_key_file_path)"
   ]
  },
  {
   "cell_type": "markdown",
   "id": "958ac1fd",
   "metadata": {},
   "source": [
    "### Create new private Collection"
   ]
  },
  {
   "cell_type": "code",
   "execution_count": null,
   "id": "8226a7c3",
   "metadata": {},
   "outputs": [],
   "source": [
    "from src.collection import create_collection\n",
    "new_collection_id = create_collection(collection_form_metadata)"
   ]
  },
  {
   "cell_type": "markdown",
   "id": "0c71f0af",
   "metadata": {},
   "source": [
    "### Determine local datafile and identifier (new Dataset requires tag)"
   ]
  },
  {
   "cell_type": "code",
   "execution_count": null,
   "id": "359516a2",
   "metadata": {},
   "outputs": [],
   "source": [
    "datafile_path = \"/absolute/path/to-datafile.h5ad\""
   ]
  },
  {
   "cell_type": "code",
   "execution_count": null,
   "id": "b2198be1",
   "metadata": {},
   "outputs": [],
   "source": [
    "identifier = \"topdir/subdir/file\"  # Or \"<dataset_id>\""
   ]
  },
  {
   "cell_type": "markdown",
   "id": "f648e0b2",
   "metadata": {},
   "source": [
    "### Upload file to Collection"
   ]
  },
  {
   "cell_type": "code",
   "execution_count": null,
   "id": "f8bb640a",
   "metadata": {},
   "outputs": [],
   "source": [
    "from src.dataset import upload_local_datafile\n",
    "upload_local_datafile(datafile_path, new_collection_id, identifier)"
   ]
  },
  {
   "cell_type": "markdown",
   "id": "77303a25",
   "metadata": {},
   "source": [
    "### Upload the same datafile but under a different identifier, thereby generating a second Dataset"
   ]
  },
  {
   "cell_type": "code",
   "execution_count": null,
   "id": "7afde78a",
   "metadata": {},
   "outputs": [],
   "source": [
    "second_identifier = \"other_tag\"\n",
    "upload_local_datafile(datafile_path, new_collection_id, second_identifier)"
   ]
  },
  {
   "cell_type": "markdown",
   "id": "0b6aa7eb",
   "metadata": {},
   "source": [
    "### Update Collection"
   ]
  },
  {
   "cell_type": "code",
   "execution_count": null,
   "id": "f27173fc",
   "metadata": {},
   "outputs": [],
   "source": [
    "from src.collection import update_collection\n",
    "update_collection(new_collection_id, collection_form_metadata)"
   ]
  },
  {
   "cell_type": "markdown",
   "id": "1ab3d37e",
   "metadata": {},
   "source": [
    "### Retrieve the Collection metadata"
   ]
  },
  {
   "cell_type": "code",
   "execution_count": null,
   "id": "9a31c6cc",
   "metadata": {},
   "outputs": [],
   "source": [
    "from src.collection import get_collection\n",
    "collection_info = get_collection(new_collection_id)\n",
    "import pprint\n",
    "pprint.pprint(collection_info)"
   ]
  },
  {
   "cell_type": "markdown",
   "id": "647e6f17",
   "metadata": {},
   "source": [
    "### <font color='#ff8000'>_\\*\\*Use the Data Portal UI to publish the Collection before proceeding (easy access via link above)\\*\\*_</font>"
   ]
  },
  {
   "cell_type": "markdown",
   "id": "f0d13483",
   "metadata": {},
   "source": [
    "### Create a revision of the Collection"
   ]
  },
  {
   "cell_type": "code",
   "execution_count": null,
   "id": "5de35ef8",
   "metadata": {},
   "outputs": [],
   "source": [
    "from src.collection import create_revision\n",
    "revision_id = create_revision(new_collection_id)"
   ]
  },
  {
   "cell_type": "markdown",
   "id": "5c204fa9",
   "metadata": {},
   "source": [
    "### Retrieve the revision Collection metadata"
   ]
  },
  {
   "cell_type": "code",
   "execution_count": null,
   "id": "9eaf5984",
   "metadata": {},
   "outputs": [],
   "source": [
    "revision_info = get_collection(revision_id)\n",
    "print(revision_info)"
   ]
  },
  {
   "cell_type": "markdown",
   "id": "bade4136",
   "metadata": {},
   "source": [
    "### Add a third Dataset (to the revision)"
   ]
  },
  {
   "cell_type": "code",
   "execution_count": null,
   "id": "a3b23ee3",
   "metadata": {},
   "outputs": [],
   "source": [
    "third_identifier = \"third\"\n",
    "upload_local_datafile(datafile_path, revision_id, third_identifier)"
   ]
  },
  {
   "cell_type": "markdown",
   "id": "9aeec327",
   "metadata": {},
   "source": [
    "### Replace the second Dataset"
   ]
  },
  {
   "cell_type": "code",
   "execution_count": null,
   "id": "76883621",
   "metadata": {},
   "outputs": [],
   "source": [
    "upload_local_datafile(datafile_path, revision_id, second_identifier)"
   ]
  },
  {
   "cell_type": "markdown",
   "id": "161994c1",
   "metadata": {},
   "source": [
    "### Cancel the revision"
   ]
  },
  {
   "cell_type": "code",
   "execution_count": null,
   "id": "2d3cebd9",
   "metadata": {},
   "outputs": [],
   "source": [
    "from src.collection import delete_collection\n",
    "delete_collection(revision_id)"
   ]
  }
 ],
 "metadata": {
  "kernelspec": {
   "display_name": "Python 3 (ipykernel)",
   "language": "python",
   "name": "python3"
  },
  "language_info": {
   "codemirror_mode": {
    "name": "ipython",
    "version": 3
   },
   "file_extension": ".py",
   "mimetype": "text/x-python",
   "name": "python",
   "nbconvert_exporter": "python",
   "pygments_lexer": "ipython3",
   "version": "3.8.6"
  }
 },
 "nbformat": 4,
 "nbformat_minor": 5
}
