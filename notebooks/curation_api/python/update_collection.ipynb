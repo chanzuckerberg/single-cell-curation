{
 "cells": [
  {
   "cell_type": "markdown",
   "id": "c5490d93",
   "metadata": {},
   "source": [
    "# Update a Collection's metadata"
   ]
  },
  {
   "cell_type": "markdown",
   "id": "74560383",
   "metadata": {},
   "source": [
    "The script in this notebook updates the metadata for a Collection.\n",
    "\n",
    "In order to edit Collections with this script, you must have a Curation API key (obtained from upper-righthand dropdown in the Data Portal UI after logging in)."
   ]
  },
  {
   "cell_type": "markdown",
   "id": "928aa50e",
   "metadata": {},
   "source": [
    "#### <font color='#bc00b0'>Please fill in the required values:</font>"
   ]
  },
  {
   "cell_type": "markdown",
   "id": "2c9a0189",
   "metadata": {},
   "source": [
    "<font color='#bc00b0'>(Required) Provide the path to your api key file</font>"
   ]
  },
  {
   "cell_type": "code",
   "execution_count": null,
   "id": "a4b6087b",
   "metadata": {},
   "outputs": [],
   "source": [
    "api_key_file_path = \"path/to/api-key-file\""
   ]
  },
  {
   "cell_type": "markdown",
   "id": "4816c4cc",
   "metadata": {},
   "source": [
    "<font color='#bc00b0'>(Required) Enter the uuid of the Collection that you want to edit</font>\n",
    "\n",
    "_The Collection uuid can be found by looking at the url path in the address bar \n",
    "when viewing your Collection in the UI of the Data Portal website:_ `collections/{collection_uuid}`."
   ]
  },
  {
   "cell_type": "code",
   "execution_count": null,
   "id": "bb82f0f9",
   "metadata": {},
   "outputs": [],
   "source": [
    "collection_uuid = \"01234567-89ab-cdef-0123-456789abcdef\""
   ]
  },
  {
   "cell_type": "markdown",
   "id": "3c793dc5",
   "metadata": {},
   "source": [
    "<font color='#bc00b0'>(Required) Provide the updated Collection form metadata for your existing Collection. **Do not include attributes that you do not wish to change**. If the links attribute is included, the existing links on the Collection will all be removed and replaced with the list of links that you provide here.</font>"
   ]
  },
  {
   "cell_type": "code",
   "execution_count": null,
   "id": "8ef50bff",
   "metadata": {},
   "outputs": [],
   "source": [
    "collection_form_metadata = {\n",
    "    \"name\": \"Name\",  # required\n",
    "    \"description\": \"A sample description\",  # required\n",
    "    \"contact_name\": \"First Last\",  # required\n",
    "    \"contact_email\": \"firstlast@email.com\",  # required\n",
    "    \"links\": [\n",
    "        {\n",
    "            \"link_name\": \"sample protocol link\",\n",
    "            \"link_url\": \"https://www.sample.link\",\n",
    "            \"link_type\": \"PROTOCOL\",\n",
    "        },\n",
    "        {\n",
    "            \"link_name\": \"sample lab website\",\n",
    "            \"link_url\": \"https://www.lab.website\",\n",
    "            \"link_type\": \"LAB_WEBSITE\",\n",
    "        }\n",
    "    ],\n",
    "}"
   ]
  },
  {
   "cell_type": "markdown",
   "id": "0009d2d0",
   "metadata": {},
   "source": [
    "### Import dependencies"
   ]
  },
  {
   "cell_type": "code",
   "execution_count": null,
   "id": "aadd3c12",
   "metadata": {},
   "outputs": [],
   "source": [
    "from src.utils.config import set_api_access_config\n",
    "from src.utils.logger import set_log_level  # can set_log_level(\"ERROR\") for less logging; default is \"INFO\"\n",
    "from src.collection import update_collection"
   ]
  },
  {
   "cell_type": "markdown",
   "id": "9501afeb",
   "metadata": {},
   "source": [
    "### Set url and access token env vars"
   ]
  },
  {
   "cell_type": "code",
   "execution_count": null,
   "id": "a6aab8e0",
   "metadata": {},
   "outputs": [],
   "source": [
    "set_api_access_config(api_key_file_path)"
   ]
  },
  {
   "cell_type": "markdown",
   "id": "6085d322",
   "metadata": {},
   "source": [
    "### Update Collection"
   ]
  },
  {
   "cell_type": "code",
   "execution_count": null,
   "id": "cb3dd36b",
   "metadata": {},
   "outputs": [],
   "source": [
    "res = update_collection(collection_uuid, collection_form_metadata)"
   ]
  }
 ],
 "metadata": {
  "kernelspec": {
   "display_name": "Python 3 (ipykernel)",
   "language": "python",
   "name": "python3"
  },
  "language_info": {
   "codemirror_mode": {
    "name": "ipython",
    "version": 3
   },
   "file_extension": ".py",
   "mimetype": "text/x-python",
   "name": "python",
   "nbconvert_exporter": "python",
   "pygments_lexer": "ipython3",
   "version": "3.8.6"
  }
 },
 "nbformat": 4,
 "nbformat_minor": 5
}
