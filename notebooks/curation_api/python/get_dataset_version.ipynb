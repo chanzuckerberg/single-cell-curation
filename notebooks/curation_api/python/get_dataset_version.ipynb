{
 "cells": [
  {
   "cell_type": "markdown",
   "id": "c5490d93",
   "metadata": {
    "pycharm": {
     "name": "#%% md\n"
    }
   },
   "source": [
    "# Fetch full metadata for a Dataset Version"
   ]
  },
  {
   "cell_type": "markdown",
   "id": "74560383",
   "metadata": {
    "pycharm": {
     "name": "#%% md\n"
    }
   },
   "source": [
    "The script in this notebook retrieves full metadata for a given Dataset Version.\n",
    "\n",
    "Fetching a Dataset Version requires only the Dataset id; it does not require an API key/access token."
   ]
  },
  {
   "cell_type": "markdown",
   "id": "0009d2d0",
   "metadata": {
    "pycharm": {
     "name": "#%% md\n"
    }
   },
   "source": [
    "### Import dependencies"
   ]
  },
  {
   "cell_type": "code",
   "execution_count": null,
   "id": "1245e960",
   "metadata": {
    "pycharm": {
     "name": "#%%\n"
    }
   },
   "outputs": [],
   "source": [
    "from src.dataset import (\n",
    "    download_assets,\n",
    "    get_dataset_version,\n",
    ")\n",
    "from src.utils.config import set_api_access_config  # still required for setting api url env vars"
   ]
  },
  {
   "cell_type": "markdown",
   "id": "4762a149",
   "metadata": {
    "pycharm": {
     "name": "#%% md\n"
    }
   },
   "source": [
    "#### <font color='#bc00b0'>Please fill in the required values:</font>"
   ]
  },
  {
   "cell_type": "markdown",
   "id": "995c6c88",
   "metadata": {
    "pycharm": {
     "name": "#%% md\n"
    }
   },
   "source": [
    "<font color='#bc00b0'>(Required) Enter the id of the Dataset Version</font>\n",
    "\n",
    "_A Dataset Version id can be found by using the `/datasets/{dataset_id}/versions` OR `/collections/{collection_id}/versions` endpoints and filtering for the Dataset Version of interest OR by looking at the url path in the address when viewing your Dataset Version using the CZ CELLxGENE Explorer browser tool: `/e/{dataset_version_id}.cxg/`._"
   ]
  },
  {
   "cell_type": "code",
   "execution_count": null,
   "id": "b2020ffd",
   "metadata": {
    "pycharm": {
     "name": "#%%\n"
    }
   },
   "outputs": [],
   "source": [
    "dataset_version_id = \"abcdef01-2345-6789-abcd-ef0123456789\""
   ]
  },
  {
   "cell_type": "markdown",
   "id": "3ee5a3d8",
   "metadata": {
    "pycharm": {
     "name": "#%% md\n"
    }
   },
   "source": [
    "### Set url env vars"
   ]
  },
  {
   "cell_type": "code",
   "execution_count": null,
   "id": "bf5728fb",
   "metadata": {
    "pycharm": {
     "name": "#%%\n"
    }
   },
   "outputs": [],
   "source": [
    "set_api_access_config()"
   ]
  },
  {
   "cell_type": "markdown",
   "id": "75fdfb75",
   "metadata": {
    "pycharm": {
     "name": "#%% md\n"
    }
   },
   "source": [
    "### Fetch Dataset Version"
   ]
  },
  {
   "cell_type": "code",
   "execution_count": null,
   "id": "e3e24d7d",
   "metadata": {
    "pycharm": {
     "name": "#%%\n"
    }
   },
   "outputs": [],
   "source": [
    "dataset_version = get_dataset_version(dataset_version_id)\n",
    "from pprint import pprint\n",
    "\n",
    "pprint(dataset_version)"
   ]
  },
  {
   "cell_type": "markdown",
   "id": "508736b1",
   "metadata": {
    "pycharm": {
     "name": "#%% md\n"
    }
   },
   "source": [
    "### Download Dataset Assets\n",
    "\n",
    "The dataset metadata provides download URLs for every asset associated with this particular dataset version.\n",
    "\n",
    "These download URLs are permalinks to download the assets for this dataset version."
   ]
  },
  {
   "cell_type": "code",
   "execution_count": null,
   "id": "0f737b15",
   "metadata": {
    "pycharm": {
     "name": "#%%\n"
    }
   },
   "outputs": [],
   "source": [
    "# Download assets\n",
    "\n",
    "download_assets([dataset_version], log_version_id=True)"
   ]
  }
 ],
 "metadata": {
  "kernelspec": {
   "display_name": "Python 3 (ipykernel)",
   "language": "python",
   "name": "python3"
  },
  "language_info": {
   "codemirror_mode": {
    "name": "ipython",
    "version": 3
   },
   "file_extension": ".py",
   "mimetype": "text/x-python",
   "name": "python",
   "nbconvert_exporter": "python",
   "pygments_lexer": "ipython3",
   "version": "3.10.6"
  }
 },
 "nbformat": 4,
 "nbformat_minor": 5
}
