{
 "cells": [
  {
   "cell_type": "markdown",
   "id": "c5490d93",
   "metadata": {},
   "source": [
    "# Download a Dataset's available assets"
   ]
  },
  {
   "cell_type": "markdown",
   "id": "74560383",
   "metadata": {},
   "source": [
    "The script in this notebook offers two approaches to downloading a Dataset's assets:\n",
    "1) A direct download of _all_ available assets to local files of the form `{collection_id}_{dataset_id}.{filetype_ext}`\n",
    "\n",
    "2) Manual retrieval of presigned_url download links for individualized downloads of assets\n",
    "\n",
    "Fetching a Dataset requires only the Collection id and the Dataset id; it does not require an API key/access token."
   ]
  },
  {
   "cell_type": "markdown",
   "id": "0009d2d0",
   "metadata": {},
   "source": [
    "### Import dependencies"
   ]
  },
  {
   "cell_type": "code",
   "execution_count": null,
   "id": "aadd3c12",
   "metadata": {},
   "outputs": [],
   "source": [
    "from src.utils.config import set_api_access_config  # still required for setting api url env vars\n",
    "from src.utils.logger import set_log_level  # can set_log_level(\"ERROR\") for less logging; default is \"INFO\"\n",
    "from src.dataset import download_assets, get_download_links_for_assets\n",
    "import requests"
   ]
  },
  {
   "cell_type": "markdown",
   "id": "928aa50e",
   "metadata": {},
   "source": [
    "#### <font color='#bc00b0'>Please fill in the required values:</font>"
   ]
  },
  {
   "cell_type": "markdown",
   "id": "4816c4cc",
   "metadata": {},
   "source": [
    "<font color='#bc00b0'>(Required) Enter the id of the Collection that contains the Dataset for which you want to download assets</font>\n",
    "\n",
    "_The Collection id can be found by looking at the url path in the address bar \n",
    "when viewing your Collection in the CZ CELLxGENE Discover data portal: `/collections/{collection_id}`._"
   ]
  },
  {
   "cell_type": "code",
   "execution_count": null,
   "id": "bb82f0f9",
   "metadata": {},
   "outputs": [],
   "source": [
    "collection_id = \"01234567-89ab-cdef-0123-456789abcdef\""
   ]
  },
  {
   "cell_type": "markdown",
   "id": "a1600d22",
   "metadata": {},
   "source": [
    "<font color='#bc00b0'>(Required) Enter the id of the Dataset for which you want to download assets</font>\n",
    "\n",
    "_The Dataset id can be found by using the `/collections/{collection_id}` endpoint and filtering for the Dataset of interest OR by looking at the url path in the address when viewing your Dataset using the CZ CELLxGENE Explorer browser tool: `/e/{dataset_id}.cxg/`._"
   ]
  },
  {
   "cell_type": "code",
   "execution_count": null,
   "id": "11793560",
   "metadata": {},
   "outputs": [],
   "source": [
    "dataset_id = \"abcdef01-2345-6789-abcd-ef0123456789\""
   ]
  },
  {
   "cell_type": "markdown",
   "id": "9501afeb",
   "metadata": {},
   "source": [
    "### Set url env vars"
   ]
  },
  {
   "cell_type": "code",
   "execution_count": null,
   "id": "a6aab8e0",
   "metadata": {},
   "outputs": [],
   "source": [
    "set_api_access_config()"
   ]
  },
  {
   "cell_type": "markdown",
   "id": "6085d322",
   "metadata": {},
   "source": [
    "### 1) Download all assets directly to local files"
   ]
  },
  {
   "cell_type": "code",
   "execution_count": 13,
   "id": "cb3dd36b",
   "metadata": {
    "scrolled": true
   },
   "outputs": [],
   "source": [
    "# Uncomment code below to download all assets\n",
    "\n",
    "# download_assets(collection_id, dataset_id)"
   ]
  },
  {
   "cell_type": "markdown",
   "id": "d2db0a60",
   "metadata": {},
   "source": [
    "### OR\n",
    "\n",
    "### 2) Fetch list of assets with download links"
   ]
  },
  {
   "cell_type": "code",
   "execution_count": null,
   "id": "f55cc410",
   "metadata": {},
   "outputs": [],
   "source": [
    "# Uncomment code below to fetch download links and manually iterate through the download process\n",
    "\n",
    "# assets = get_download_links_for_assets(collection_id, dataset_id)\n",
    "# for asset in assets:\n",
    "#     download_filename = f\"{collection_id}_{dataset_id}_{asset['filename']}\"\n",
    "#     print(f\"Downloading {asset['filetype']} file to {download_filename}... \")\n",
    "#     with requests.get(asset[\"presigned_url\"], stream=True) as res:\n",
    "#         res.raise_for_status()\n",
    "#         with open(download_filename, \"wb\") as df:\n",
    "#             for chunk in res.iter_content(chunk_size=1024 * 1024):\n",
    "#                 df.write(chunk)\n",
    "# print(\"Done downloading assets\")"
   ]
  }
 ],
 "metadata": {
  "kernelspec": {
   "display_name": "Python 3 (ipykernel)",
   "language": "python",
   "name": "python3"
  },
  "language_info": {
   "codemirror_mode": {
    "name": "ipython",
    "version": 3
   },
   "file_extension": ".py",
   "mimetype": "text/x-python",
   "name": "python",
   "nbconvert_exporter": "python",
   "pygments_lexer": "ipython3",
   "version": "3.8.6"
  }
 },
 "nbformat": 4,
 "nbformat_minor": 5
}
