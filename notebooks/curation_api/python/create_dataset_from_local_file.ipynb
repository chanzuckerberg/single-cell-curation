{
 "cells": [
  {
   "cell_type": "markdown",
   "id": "b68160f6",
   "metadata": {},
   "source": [
    "# Upload a local datafile to add or replace a Dataset in a Collection"
   ]
  },
  {
   "cell_type": "markdown",
   "id": "cd7f8b6d",
   "metadata": {},
   "source": [
    "The script in this notebook performs the upload of a local datafile to a given Collection (as identified by its Collection id), where the datafile becomes a Dataset accessible via the Data Portal UI.\n",
    "\n",
    "In order to use this script, you must...\n",
    "- have a Curation API key (obtained from upper-righthand dropdown in the Data Portal UI after logging in)\n",
    "- know the id of the Collection to which you wish to upload the datafile (taken from `/collections/<collection_id>` in url path in Data Portal UI when viewing the Collection)\n",
    "\n",
    "_For **NEW** Dataset uploads_:\n",
    "- You must decide upon a string identifier (a \"curator tag\") to use to uniquely identify the resultant Dataset within its Collection. This tag **MUST NOT** be the tag of an existing Dataset within this Collection (otherwise the existing Dataset will be updated; read on below), and it **MUST NOT** conform to the uuid format.\n",
    "\n",
    "_For **replacing/updating** existing Datasets_:\n",
    "- Uploads to a curator tag for which there already exists a Dataset in the given Collection will result in the existing Dataset being replaced by the new Dataset created from the datafile that you \n",
    "are uploading.\n",
    "- Alternatively, an existing dataset may be targeted for replacement by using the Dataset's Cellxgene id as the identifier when writing to S3.\n",
    "\n",
    "\n",
    "You can only add/replace Datasets in _private_ Collections or _private revisions_ of published Collections.\n",
    "\n",
    "Curator tags are only unique _within_ a given Collection.\n",
    "\n",
    "See examples of _add_ vs _replace_ behavior with different identifiers:"
   ]
  },
  {
   "cell_type": "markdown",
   "id": "1ff1ec6e",
   "metadata": {},
   "source": [
    "```\n",
    "identifier = \"new_unused_tag\"\n",
    "# A new Dataset with curator tag 'new_unused_tag' is created from the local datafile and is added to the given Collection\n",
    "\n",
    "identifier = \"existing/Dataset_tag\"\n",
    "# The existing Dataset with curator tag 'existing/Dataset_tag' in the given Collection gets replaced by a new \n",
    "Dataset created from the local datafile\n",
    "\n",
    "identifier = \"abcdef01-2345-6789-abcd-ef01234576789\"\n",
    "# Existing Dataset with id 'abcdef01-2345-6789-abcd-ef01234576789' gets replaced. If no such Dataset exists in the given Collection with this id, no action is taken.\n",
    "```"
   ]
  },
  {
   "cell_type": "markdown",
   "id": "352deec2",
   "metadata": {},
   "source": [
    "### Import dependencies"
   ]
  },
  {
   "cell_type": "code",
   "execution_count": null,
   "id": "17d70d36",
   "metadata": {},
   "outputs": [],
   "source": [
    "from src.utils.config import set_api_access_config\n",
    "from src.utils.logger import set_log_level  # can set_log_level(\"ERROR\") for less logging; default is \"INFO\"\n",
    "from src.dataset import upload_local_datafile"
   ]
  },
  {
   "cell_type": "markdown",
   "id": "50c6c402",
   "metadata": {},
   "source": [
    "#### <font color='#bc00b0'>Please fill in the required values:</font>"
   ]
  },
  {
   "cell_type": "markdown",
   "id": "38afd0cd",
   "metadata": {},
   "source": [
    "<font color='#bc00b0'>(Required) Provide the path to your api key file</font>"
   ]
  },
  {
   "cell_type": "code",
   "execution_count": null,
   "id": "7c8c55fa",
   "metadata": {},
   "outputs": [],
   "source": [
    "api_key_file_path = \"path/to/api-key-file\""
   ]
  },
  {
   "cell_type": "markdown",
   "id": "3e84d52e",
   "metadata": {},
   "source": [
    "<font color='#bc00b0'>(Required) Provide the absolute path to the h5ad datafile to upload</font>"
   ]
  },
  {
   "cell_type": "code",
   "execution_count": null,
   "id": "f46e1874",
   "metadata": {},
   "outputs": [],
   "source": [
    "datafile_path = \"/absolute/path/to-datafile.h5ad\""
   ]
  },
  {
   "cell_type": "markdown",
   "id": "104aea94",
   "metadata": {},
   "source": [
    "<font color='#bc00b0'>(Required) Enter your chosen `identifier` (see 'identifier' behavior rules in heading above) which will serve as a unique identifier _within this Collection_ for the resultant Dataset.</font>\n",
    "    \n",
    "When using curator tags, we recommmend using a tagging scheme that 1) makes sense to you, and 2) will help organize and facilitate your \n",
    "automation of future uploads for adding new Datasets and replacing existing Datasets. Remember that curator tags can be used as the identifier when _adding or replacing_ Datasets, whereas Dataset id's (uuid's) can only be used as the identifier when _replacing_ Datasets."
   ]
  },
  {
   "cell_type": "code",
   "execution_count": null,
   "id": "b2198be1",
   "metadata": {},
   "outputs": [],
   "source": [
    "identifier = \"arbitrary/tag/chosen-by-you\"  # Or \"<dataset_id>\""
   ]
  },
  {
   "cell_type": "markdown",
   "id": "463870f1",
   "metadata": {},
   "source": [
    "<font color='#bc00b0'>(Required) Enter the id of the Collection to which you wish to add this datafile as a Dataset</font>\n",
    "\n",
    "_The Collection id can be found by looking at the url path in the address bar \n",
    "when viewing your Collection in the UI of the Data Portal website:_ `collections/{collection_id}`_. You can only add/replace Datasets in private Collections or private revisions of published Collections. In order to edit a published Collection, you must first create a revision of that Collection._"
   ]
  },
  {
   "cell_type": "code",
   "execution_count": null,
   "id": "f8bb640a",
   "metadata": {},
   "outputs": [],
   "source": [
    "collection_id = \"01234567-89ab-cdef-0123-456789abcdef\""
   ]
  },
  {
   "cell_type": "markdown",
   "id": "beec27c8",
   "metadata": {},
   "source": [
    "### Set url and access token env vars"
   ]
  },
  {
   "cell_type": "code",
   "execution_count": null,
   "id": "7afde78a",
   "metadata": {},
   "outputs": [],
   "source": [
    "set_api_access_config(api_key_file_path)"
   ]
  },
  {
   "cell_type": "markdown",
   "id": "f648e0b2",
   "metadata": {},
   "source": [
    "### Upload file using temporary s3 credentials"
   ]
  },
  {
   "cell_type": "code",
   "execution_count": null,
   "id": "4c332b6f",
   "metadata": {},
   "outputs": [],
   "source": [
    "upload_local_datafile(datafile_path, collection_id, identifier)"
   ]
  }
 ],
 "metadata": {
  "kernelspec": {
   "display_name": "Python 3 (ipykernel)",
   "language": "python",
   "name": "python3"
  },
  "language_info": {
   "codemirror_mode": {
    "name": "ipython",
    "version": 3
   },
   "file_extension": ".py",
   "mimetype": "text/x-python",
   "name": "python",
   "nbconvert_exporter": "python",
   "pygments_lexer": "ipython3",
   "version": "3.8.6"
  }
 },
 "nbformat": 4,
 "nbformat_minor": 5
}
