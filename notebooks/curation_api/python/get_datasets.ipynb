{
 "cells": [
  {
   "cell_type": "markdown",
   "id": "c5490d93",
   "metadata": {},
   "source": [
    "# Fetch full metadata for all Datasets"
   ]
  },
  {
   "cell_type": "markdown",
   "id": "74560383",
   "metadata": {},
   "source": [
    "The script in this notebook fetches full Dataset metadata for all public Datasets."
   ]
  },
  {
   "cell_type": "markdown",
   "id": "0009d2d0",
   "metadata": {},
   "source": [
    "### Import dependencies"
   ]
  },
  {
   "cell_type": "code",
   "execution_count": null,
   "id": "aadd3c12",
   "metadata": {},
   "outputs": [],
   "source": [
    "from src.dataset import get_datasets\n",
    "from src.utils.config import set_api_access_config  # still required for setting api url env vars"
   ]
  },
  {
   "cell_type": "markdown",
   "id": "319174cf",
   "metadata": {},
   "source": [
    "#### <font color='#bc00b0'>Please fill in the required values:</font>"
   ]
  },
  {
   "cell_type": "markdown",
   "id": "a04e62c6",
   "metadata": {},
   "source": [
    "<font color='#bc00b0'>(Required for fetching private Datasets) Provide the path to your api key file</font>"
   ]
  },
  {
   "cell_type": "code",
   "execution_count": null,
   "id": "bdf74c99",
   "metadata": {},
   "outputs": [],
   "source": [
    "api_key_file_path = \"path/to/api-key-file\""
   ]
  },
  {
   "cell_type": "markdown",
   "id": "9501afeb",
   "metadata": {},
   "source": [
    "### Set url env vars"
   ]
  },
  {
   "cell_type": "code",
   "execution_count": null,
   "id": "a6aab8e0",
   "metadata": {},
   "outputs": [],
   "source": [
    "set_api_access_config(api_key_file_path)"
   ]
  },
  {
   "cell_type": "markdown",
   "id": "6085d322",
   "metadata": {},
   "source": [
    "### Fetch Datasets\n",
    "#### arguments:\n",
    "- visibility: \"PRIVATE\" to retrieve private Datasets\n",
    "- schema_version: \"X\" or \"X.Y\" or \"X.Y.Z\" to retrieve public Datasets with the given version"
   ]
  },
  {
   "cell_type": "code",
   "execution_count": null,
   "id": "cb3dd36b",
   "metadata": {},
   "outputs": [],
   "source": [
    "datasets = get_datasets()\n",
    "from pprint import pprint\n",
    "\n",
    "pprint(datasets)"
   ]
  }
 ],
 "metadata": {
  "kernelspec": {
   "display_name": "Python 3 (ipykernel)",
   "language": "python",
   "name": "python3"
  },
  "language_info": {
   "codemirror_mode": {
    "name": "ipython",
    "version": 3
   },
   "file_extension": ".py",
   "mimetype": "text/x-python",
   "name": "python",
   "nbconvert_exporter": "python",
   "pygments_lexer": "ipython3",
   "version": "3.8.6"
  }
 },
 "nbformat": 4,
 "nbformat_minor": 5
}
