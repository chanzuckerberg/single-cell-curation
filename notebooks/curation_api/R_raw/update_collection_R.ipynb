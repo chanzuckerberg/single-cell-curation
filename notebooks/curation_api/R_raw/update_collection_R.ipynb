{
 "cells": [
  {
   "cell_type": "markdown",
   "id": "c5490d93",
   "metadata": {},
   "source": [
    "# Update a Collection's metadata"
   ]
  },
  {
   "cell_type": "markdown",
   "id": "74560383",
   "metadata": {},
   "source": [
    "The script in this notebook updates the metadata for a private Collection (revision or unpublished).\n",
    "\n",
    "In order to edit Collections with this script, you must have a Curation API key (obtained from upper-righthand dropdown in the CZ CELLxGENE Discover data portal after logging in)."
   ]
  },
  {
   "cell_type": "markdown",
   "id": "edfb1272",
   "metadata": {},
   "source": [
    "### Import dependencies"
   ]
  },
  {
   "cell_type": "code",
   "execution_count": null,
   "id": "1cff472c",
   "metadata": {},
   "outputs": [],
   "source": [
    "library(\"readr\")\n",
    "library(\"httr\")\n",
    "library(\"stringr\")\n",
    "library(\"rjson\")"
   ]
  },
  {
   "cell_type": "markdown",
   "id": "928aa50e",
   "metadata": {},
   "source": [
    "#### <font color='#bc00b0'>Please fill in the required values:</font>"
   ]
  },
  {
   "cell_type": "markdown",
   "id": "2c9a0189",
   "metadata": {},
   "source": [
    "<font color='#bc00b0'>(Required) Provide the path to your api key file</font>"
   ]
  },
  {
   "cell_type": "code",
   "execution_count": null,
   "id": "6ea46d33",
   "metadata": {},
   "outputs": [],
   "source": [
    "api_key_file_path <- \"path/to/api-key.txt\""
   ]
  },
  {
   "cell_type": "markdown",
   "id": "18879e44",
   "metadata": {},
   "source": [
    "<font color='#bc00b0'>(Required) Enter the id of the Collection that you want to update</font>\n",
    "\n",
    "_The Collection id can be found by looking at the url path in the address bar \n",
    "when viewing your Collection in the CZ CELLxGENE Discover data portal: `/collections/{collection_id}`._"
   ]
  },
  {
   "cell_type": "code",
   "execution_count": null,
   "id": "477276b2",
   "metadata": {},
   "outputs": [],
   "source": [
    "collection_id <- \"01234567-89ab-cdef-0123-456789abcdef\""
   ]
  },
  {
   "cell_type": "markdown",
   "id": "c329a95d",
   "metadata": {},
   "source": [
    "<font color='#bc00b0'>(Required) Provide the updated Collection form metadata for your existing Collection. **Do not include attributes that you do not wish to change**. If a non-empty list of links is passed in, the existing links on the Collection will all be removed and replaced with the list of links that you provide here. If included, the DOI must be in the form of a [CURIE Reference](https://www.w3.org/TR/2010/NOTE-curie-20101216/#s_syntax), and if it cannot be found on Crossref or is invalid, the entire request will be rejected.</font>"
   ]
  },
  {
   "cell_type": "code",
   "execution_count": null,
   "id": "14578831",
   "metadata": {},
   "outputs": [],
   "source": [
    "collection_form_metadata <- list(\n",
    "  name = \"Updated name\",\n",
    "  doi = \"10.1093/ajae/aaq063\",\n",
    "  links = list(\n",
    "      list(\n",
    "          link_name = \"updated sample protocol link\",\n",
    "          link_url = \"https://www.updated_sample.link\",\n",
    "          link_type = \"PROTOCOL\"\n",
    "      ),\n",
    "      list(\n",
    "          link_name = \"updated sample lab website\",\n",
    "          link_url = \"https://www.lab.website.updated\",\n",
    "          link_type = \"LAB_WEBSITE\"\n",
    "      )\n",
    "  )\n",
    ")"
   ]
  },
  {
   "cell_type": "markdown",
   "id": "285a1ca4",
   "metadata": {},
   "source": [
    "### Specify domain (and API url)"
   ]
  },
  {
   "cell_type": "code",
   "execution_count": null,
   "id": "bea213f4",
   "metadata": {},
   "outputs": [],
   "source": [
    "domain_name <- \"cellxgene.cziscience.com\"\n",
    "site_url <- str_interp(\"https://${domain_name}\")\n",
    "api_url_base <- str_interp(\"https://api.${domain_name}\")"
   ]
  },
  {
   "cell_type": "markdown",
   "id": "4e9be6c4",
   "metadata": {},
   "source": [
    "### Use API key to obtain a temporary access token"
   ]
  },
  {
   "cell_type": "code",
   "execution_count": null,
   "id": "4ab5032b",
   "metadata": {},
   "outputs": [],
   "source": [
    "api_key <- read_file(api_key_file_path)\n",
    "access_token_path <- \"/curation/v1/auth/token\"\n",
    "access_token_url <- str_interp(\"${api_url_base}${access_token_path}\")\n",
    "res <- POST(url=access_token_url, add_headers(`x-api-key`=api_key))\n",
    "stop_for_status(res)\n",
    "access_token <- content(res)$access_token"
   ]
  },
  {
   "cell_type": "markdown",
   "id": "e51b9169",
   "metadata": {},
   "source": [
    "##### (optional, debug) verify status code of response"
   ]
  },
  {
   "cell_type": "code",
   "execution_count": null,
   "id": "28978522",
   "metadata": {},
   "outputs": [],
   "source": [
    "print(res$status_code)"
   ]
  },
  {
   "cell_type": "markdown",
   "id": "6085d322",
   "metadata": {},
   "source": [
    "### Formulate request and update a Collection"
   ]
  },
  {
   "cell_type": "code",
   "execution_count": null,
   "id": "cb3dd36b",
   "metadata": {
    "pycharm": {
     "name": "#%%\n"
    }
   },
   "outputs": [],
   "source": [
    "collection_path <- str_interp(\"/curation/v1/collections/${collection_id}\")\n",
    "url <- str_interp(\"${api_url_base}${collection_path}\")\n",
    "bearer_token <- str_interp(\"Bearer ${access_token}\")\n",
    "res <- PATCH(\n",
    "    url=url, body=toJSON(collection_form_metadata),\n",
    "    add_headers(`Authorization`=bearer_token, `Content-Type`=\"application/json\")\n",
    ")\n",
    "stop_for_status(res)\n",
    "res_content <- content(res)  # response data\n",
    "\n",
    "cat(\"Updated the Collection at url:\\n\")\n",
    "cat(str_interp(\"${site_url}/collections/${collection_id}\"))"
   ]
  }
 ],
 "metadata": {
  "kernelspec": {
   "display_name": "R",
   "language": "R",
   "name": "ir"
  },
  "language_info": {
   "codemirror_mode": "r",
   "file_extension": ".r",
   "mimetype": "text/x-r-source",
   "name": "R",
   "pygments_lexer": "r",
   "version": "4.2.0"
  }
 },
 "nbformat": 4,
 "nbformat_minor": 5
}
