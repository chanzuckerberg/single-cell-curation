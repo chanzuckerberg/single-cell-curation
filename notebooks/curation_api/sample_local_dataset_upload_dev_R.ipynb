{
 "cells": [
  {
   "cell_type": "markdown",
   "id": "b68160f6",
   "metadata": {},
   "source": [
    "# Upload a local datafile to add or replace a Dataset in a Collection"
   ]
  },
  {
   "cell_type": "markdown",
   "id": "1ff1ec6e",
   "metadata": {},
   "source": [
    "The script in this notebook performs the upload of a local datafile to a given Collection (as identified by its Collection uuid), where the datafile becomes a Dataset accessible via the Data Portal UI.\n",
    "\n",
    "In order to use this script, you must...\n",
    "- have a Curation API key (obtained from upper-righthand dropdown in the Data Portal UI after logging in)\n",
    "- know the id of the Collection to which you wish to upload the datafile (from `/collections/<collection_id>` in url path in Data Portal UI)\n",
    "\n",
    "**For new Dataset uploads**:\n",
    "- You must decide upon a string tag (the `curator_tag`) to use to uniquely identify the resultant Dataset within its Collection. This tag must *NOT* be the tag of an existing Dataset within this Collection (read on below), and it must _NOT_ conform to the uuid format.\n",
    "\n",
    "**For replacing/updating existing Datasets**:\n",
    "- Uploads to a curator tag for which there already exists a Dataset in the given Collection will result in the existing Dataset being replaced by the new Dataset created from the datafile that you are uploading.\n",
    "- Alternatively, while not necessarily recommended, an existing dataset _may_ be targeted for replacement by using the Dataset's Cellxgene uuid as the tag when writing to S3.\n",
    "- You can only add/replace Datasets in private Collections or revision Collections.\n",
    "\n",
    "For all uploads, the `.h5ad` suffix must be appended to the tag in the S3 write key. See example below."
   ]
  },
  {
   "cell_type": "markdown",
   "id": "2d8964bc",
   "metadata": {},
   "source": [
    "#### <font color='#bc00b0'>Please fill in the required values:</font>"
   ]
  },
  {
   "cell_type": "markdown",
   "id": "f73c969a",
   "metadata": {},
   "source": [
    "<font color='#bc00b0'>(Required) Provide the path to your api key file</font>"
   ]
  },
  {
   "cell_type": "code",
   "execution_count": null,
   "id": "07a2424b",
   "metadata": {},
   "outputs": [],
   "source": [
    "api_key_file <- \"path/to/api-key.txt\""
   ]
  },
  {
   "cell_type": "markdown",
   "id": "3e84d52e",
   "metadata": {},
   "source": [
    "<font color='#bc00b0'>(Required) Provide the absolute path to the h5ad datafile to upload</font>"
   ]
  },
  {
   "cell_type": "code",
   "execution_count": null,
   "id": "ce19b8b0",
   "metadata": {},
   "outputs": [],
   "source": [
    "filename <- \"/absolute/path/to-datafile.h5ad\""
   ]
  },
  {
   "cell_type": "markdown",
   "id": "104aea94",
   "metadata": {},
   "source": [
    "<font color='#bc00b0'>(Required) Enter your chosen `curator_tag`, which will serve as a unique identifier _within this Collection_ for the resultant Dataset. **Must possess the '.h5ad' suffix**.</font>\n",
    "    \n",
    "_We recommmend using a tagging scheme that 1) makes sense to you, and 2) will help organize and facilitate your \n",
    "automation of future uploads for adding new Datasets and replacing existing Datasets._"
   ]
  },
  {
   "cell_type": "code",
   "execution_count": null,
   "id": "a4e9b33a",
   "metadata": {},
   "outputs": [],
   "source": [
    "curator_tag <- \"arbitrary/tag/chosen-by-you.h5ad\""
   ]
  },
  {
   "cell_type": "markdown",
   "id": "463870f1",
   "metadata": {},
   "source": [
    "<font color='#bc00b0'>(Required) Enter the uuid of the Collection to which you wish to add this datafile as a Dataset</font>\n",
    "\n",
    "_The Collection uuid can be found by looking at the url path in the address bar \n",
    "when viewing your Collection in the UI of the Data Portal website:_ `collections/{collection_id}`_. You can only add/replace Datasets in private Collections or revision Collections (and not public ones)._"
   ]
  },
  {
   "cell_type": "code",
   "execution_count": null,
   "id": "86483731",
   "metadata": {},
   "outputs": [],
   "source": [
    "collection_id <- \"01234567-89ab-cdef-0123-456789abcdef\""
   ]
  },
  {
   "cell_type": "markdown",
   "id": "c1cf4dae",
   "metadata": {},
   "source": [
    "### Import dependencies"
   ]
  },
  {
   "cell_type": "code",
   "execution_count": null,
   "id": "80427063",
   "metadata": {},
   "outputs": [],
   "source": [
    "library(\"readr\")\n",
    "library(\"aws.s3\")\n",
    "library(\"httr\")\n",
    "library(\"stringr\")"
   ]
  },
  {
   "cell_type": "markdown",
   "id": "1708156b",
   "metadata": {},
   "source": [
    "### Use API key to obtain a temporary access token"
   ]
  },
  {
   "cell_type": "code",
   "execution_count": null,
   "id": "93b0481d",
   "metadata": {},
   "outputs": [],
   "source": [
    "api_key <- read_file(api_key_file)\n",
    "url <- \"https://api.cellxgene.dev.single-cell.czi.technology/curation/v1/auth/token\"\n",
    "res <- POST(url=url, add_headers(`x-api-key`=api_key))\n",
    "stop_for_status(res)\n",
    "access_token <- content(res)$access_token"
   ]
  },
  {
   "cell_type": "markdown",
   "id": "ea089d0e",
   "metadata": {},
   "source": [
    "##### (optional, debug) verify status code of response"
   ]
  },
  {
   "cell_type": "code",
   "execution_count": null,
   "id": "b01dc941",
   "metadata": {},
   "outputs": [],
   "source": [
    "print(res$status_code)"
   ]
  },
  {
   "cell_type": "markdown",
   "id": "a79b1f19",
   "metadata": {},
   "source": [
    "### Retrieve temporary s3 write credentials. These credentials will only work for _this_ Collection."
   ]
  },
  {
   "cell_type": "code",
   "execution_count": null,
   "id": "4345fa14",
   "metadata": {},
   "outputs": [],
   "source": [
    "s3_credentials_url <- str_interp(\"https://api.cellxgene.dev.single-cell.czi.technology/curation/v1/collections/${collection_id}/datasets/s3-upload-credentials\")\n",
    "bearer_token <- str_interp(\"Bearer ${access_token}\")\n",
    "res <- POST(url=s3_credentials_url, add_headers(`Authorization`=bearer_token))\n",
    "stop_for_status(res)\n",
    "res_content <- content(res)\n",
    "access_key_id <- res_content$Credentials$AccessKeyId\n",
    "secret_access_key <- res_content$Credentials$SecretAccessKey\n",
    "session_token <- res_content$Credentials$SessionToken\n",
    "upload_path <- res_content$UploadPath"
   ]
  },
  {
   "cell_type": "markdown",
   "id": "c14030d8",
   "metadata": {},
   "source": [
    "### Extract formatted upload path from credentials endpoint response"
   ]
  },
  {
   "cell_type": "code",
   "execution_count": null,
   "id": "d942695a",
   "metadata": {},
   "outputs": [],
   "source": [
    "bucket <- res_content$Bucket\n",
    "key_prefix <- res_content$UploadKeyPrefix\n",
    "upload_key <- paste(key_prefix, curator_tag, sep=\"\")\n",
    "print(str_interp(\"Full S3 write path is s3://${bucket}/${upload_key}\"))"
   ]
  },
  {
   "cell_type": "markdown",
   "id": "f648e0b2",
   "metadata": {},
   "source": [
    "### Upload file using temporary s3 credentials"
   ]
  },
  {
   "cell_type": "code",
   "execution_count": null,
   "id": "15514bce",
   "metadata": {},
   "outputs": [],
   "source": [
    "Sys.setenv(\n",
    "    \"AWS_ACCESS_KEY_ID\" = access_key_id,\n",
    "    \"AWS_SECRET_ACCESS_KEY\" = secret_access_key,\n",
    "    \"AWS_SESSION_TOKEN\" = session_token,\n",
    "    \"AWS_DEFAULT_REGION\" = \"us-west-2\"\n",
    ")\n",
    "put_object(file=filename, object=upload_key, bucket=bucket)"
   ]
  }
 ],
 "metadata": {
  "kernelspec": {
   "display_name": "R",
   "language": "R",
   "name": "ir"
  },
  "language_info": {
   "codemirror_mode": "r",
   "file_extension": ".r",
   "mimetype": "text/x-r-source",
   "name": "R",
   "pygments_lexer": "r",
   "version": "4.2.0"
  }
 },
 "nbformat": 4,
 "nbformat_minor": 5
}
