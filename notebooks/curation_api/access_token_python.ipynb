{
 "cells": [
  {
   "cell_type": "markdown",
   "id": "7f7233a9",
   "metadata": {},
   "source": [
    "### Fetch access token and set as environment variable"
   ]
  },
  {
   "cell_type": "code",
   "execution_count": 1,
   "id": "63603fe8",
   "metadata": {},
   "outputs": [],
   "source": [
    "import os\n",
    "\n",
    "def set_access_token_env_var(api_key_file_path: str):\n",
    "    api_key = open(api_key_file_path).read().strip()  \n",
    "    access_token_headers = {\"x-api-key\": api_key}\n",
    "    access_token_path = \"/curation/v1/auth/token\"\n",
    "    access_token_url = f\"{os.getenv('api_url_base')}{access_token_path}\"\n",
    "    res = requests.post(access_token_url, headers=access_token_headers)\n",
    "    res.raise_for_status()\n",
    "    access_token = res.json().get(\"access_token\")\n",
    "    os.environ[\"access_token\"] = access_token\n",
    "    print(f\"Response status code: {res.status_code}\")\n",
    "    print(\"Successfully set 'access_token' env var!\")"
   ]
  }
 ],
 "metadata": {
  "kernelspec": {
   "display_name": "Python 3 (ipykernel)",
   "language": "python",
   "name": "python3"
  },
  "language_info": {
   "codemirror_mode": {
    "name": "ipython",
    "version": 3
   },
   "file_extension": ".py",
   "mimetype": "text/x-python",
   "name": "python",
   "nbconvert_exporter": "python",
   "pygments_lexer": "ipython3",
   "version": "3.8.6"
  }
 },
 "nbformat": 4,
 "nbformat_minor": 5
}
