{
 "cells": [
  {
   "cell_type": "markdown",
   "id": "bedad924",
   "metadata": {},
   "source": [
    "### Set API urls as environment variables"
   ]
  },
  {
   "cell_type": "code",
   "execution_count": 4,
   "id": "e4bdd0a5",
   "metadata": {},
   "outputs": [],
   "source": [
    "import os\n",
    "\n",
    "def set_url_env_vars(env: str):\n",
    "    if env == \"prod\":\n",
    "        domain_name = \"cellxgene.cziscience.com\"\n",
    "    elif env == \"dev\" or env == \"staging\":\n",
    "        domain_name = f\"cellxgene.{env}.single-cell.czi.technology\"\n",
    "    else:\n",
    "        raise Exception(\"Must use an existing environment: 'dev', 'staging', or 'prod'.\")\n",
    "    \n",
    "    os.environ[\"site_url\"] = f\"https://{domain_name}\"\n",
    "    print(f\"Set 'site_url' env var to {os.getenv('site_url')}\")\n",
    "    os.environ[\"api_url_base\"] = f\"https://api.{domain_name}\"\n",
    "    print(f\"Set 'api_url_base' env var to {os.getenv('api_url_base')}\")"
   ]
  }
 ],
 "metadata": {
  "kernelspec": {
   "display_name": "Python 3 (ipykernel)",
   "language": "python",
   "name": "python3"
  },
  "language_info": {
   "codemirror_mode": {
    "name": "ipython",
    "version": 3
   },
   "file_extension": ".py",
   "mimetype": "text/x-python",
   "name": "python",
   "nbconvert_exporter": "python",
   "pygments_lexer": "ipython3",
   "version": "3.8.6"
  }
 },
 "nbformat": 4,
 "nbformat_minor": 5
}
